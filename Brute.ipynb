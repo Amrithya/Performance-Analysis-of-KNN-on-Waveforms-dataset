{
  "nbformat": 4,
  "nbformat_minor": 0,
  "metadata": {
    "colab": {
      "provenance": []
    },
    "kernelspec": {
      "name": "python3",
      "display_name": "Python 3"
    },
    "language_info": {
      "name": "python"
    }
  },
  "cells": [
    {
      "cell_type": "code",
      "execution_count": 1,
      "metadata": {
        "id": "Fb189yXbjCVH"
      },
      "outputs": [],
      "source": [
        "import numpy as np\n",
        "import pandas as pd\n",
        "import random\n",
        "from collections import Counter\n",
        "from sklearn.model_selection import train_test_split\n",
        "from scipy.spatial.distance import cdist\n",
        "from sklearn.neighbors import KNeighborsClassifier"
      ]
    },
    {
      "cell_type": "code",
      "source": [
        "data = pd.read_csv(\"/content/drive/MyDrive/waveform_data.csv\")"
      ],
      "metadata": {
        "id": "TnCTC943jLqD"
      },
      "execution_count": 2,
      "outputs": []
    },
    {
      "cell_type": "markdown",
      "source": [
        "We are not considering the entire data but taking a random sample of it as the codes are calculation intensive."
      ],
      "metadata": {
        "id": "Jn5IV7EWvQkm"
      }
    },
    {
      "cell_type": "code",
      "source": [
        "random_sample = data.sample(n=500, random_state=42)"
      ],
      "metadata": {
        "id": "jPAXezYdjTwJ"
      },
      "execution_count": 3,
      "outputs": []
    },
    {
      "cell_type": "code",
      "source": [
        "X = random_sample.iloc[:, :-1]\n",
        "y = random_sample.iloc[:, -1]"
      ],
      "metadata": {
        "id": "80qJZb-GjjwO"
      },
      "execution_count": 4,
      "outputs": []
    },
    {
      "cell_type": "code",
      "source": [
        "X_train, X_test, y_train, y_test = train_test_split(X, y, test_size=0.2, random_state=1, stratify=y)"
      ],
      "metadata": {
        "id": "K1kmTXLajuVg"
      },
      "execution_count": 5,
      "outputs": []
    },
    {
      "cell_type": "code",
      "source": [
        "X_train['Index_Column'] = X_train.index\n",
        "X_train = X_train.reset_index(drop=True)\n",
        "X_test['Index_Column'] = X_test.index\n",
        "X_test = X_test.reset_index(drop=True)"
      ],
      "metadata": {
        "id": "GuCu1VslG10x"
      },
      "execution_count": 6,
      "outputs": []
    },
    {
      "cell_type": "code",
      "source": [
        "y_train = list(y_train)\n",
        "y_test = list(y_test)"
      ],
      "metadata": {
        "id": "sJ-Tpac1JLpo"
      },
      "execution_count": 7,
      "outputs": []
    },
    {
      "cell_type": "code",
      "source": [
        "def knn_predict(S_train, label_train, S_test, k=1):\n",
        "    predictions = []\n",
        "    for i, row in S_test.iterrows():\n",
        "      distances = []\n",
        "      for l, r in S_train.iterrows():\n",
        "          distances.append(np.sqrt(np.sum((S_test.iloc[i, :-2] - S_train.iloc[l, :-2]) ** 2)))\n",
        "      nearest_neighbour = y_train[np.argmin(distances)]\n",
        "      predictions.append(nearest_neighbour)\n",
        "    return(predictions)"
      ],
      "metadata": {
        "id": "tZMgtNU9GPs_"
      },
      "execution_count": 8,
      "outputs": []
    },
    {
      "cell_type": "code",
      "source": [
        "y_pred = knn_predict(X_train, y_train, X_test, k=1)"
      ],
      "metadata": {
        "id": "3yaKbd7AGPV4"
      },
      "execution_count": 9,
      "outputs": []
    },
    {
      "cell_type": "code",
      "source": [
        "def calculate_accuracy(predicted_labels, actual_labels):\n",
        "    correct_predictions = sum(pred == actual for pred, actual in zip(predicted_labels, actual_labels))\n",
        "    total_predictions = len(actual_labels)\n",
        "    accuracy = correct_predictions / total_predictions\n",
        "    return accuracy"
      ],
      "metadata": {
        "id": "hD07DeD8j6iL"
      },
      "execution_count": 10,
      "outputs": []
    },
    {
      "cell_type": "code",
      "source": [
        "calculate_accuracy(y_pred, y_test)"
      ],
      "metadata": {
        "colab": {
          "base_uri": "https://localhost:8080/"
        },
        "id": "K1g9S-gqqnvZ",
        "outputId": "53daf63f-bee1-48f4-c709-dfd5d921bd7d"
      },
      "execution_count": 11,
      "outputs": [
        {
          "output_type": "execute_result",
          "data": {
            "text/plain": [
              "0.8"
            ]
          },
          "metadata": {},
          "execution_count": 11
        }
      ]
    }
  ]
}