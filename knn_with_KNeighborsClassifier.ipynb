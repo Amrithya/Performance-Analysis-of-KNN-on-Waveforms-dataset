{
  "nbformat": 4,
  "nbformat_minor": 0,
  "metadata": {
    "colab": {
      "provenance": []
    },
    "kernelspec": {
      "name": "python3",
      "display_name": "Python 3"
    },
    "language_info": {
      "name": "python"
    }
  },
  "cells": [
    {
      "cell_type": "markdown",
      "source": [
        "# **Importing libraries**\n",
        "\n",
        "**imblearn.under_sampling.CondensedNearestNeighbour**: Implements the Condensed Nearest Neighbors algorithm for under-sampling.\n",
        "\n",
        "**sklearn.decomposition.PCA**: Implements Principal Component Analysis for dimensionality reduction.\n",
        "\n",
        "**sklearn.preprocessing.StandardScaler**: Standardizes features by removing the mean and scaling to unit variance.\n",
        "\n",
        "**imblearn.over_sampling.SMOTE**: Implements Synthetic Minority Over-sampling Technique for over-sampling.\n",
        "\n",
        "**sklearn.neighbors.KDTree and sklearn.neighbors.BallTree**: Implement KD-tree and Ball-tree data structures, respectively, for efficient nearest neighbors search."
      ],
      "metadata": {
        "id": "DkjBzUXuwjLp"
      }
    },
    {
      "cell_type": "code",
      "execution_count": 120,
      "metadata": {
        "id": "DP_3jgQJt_f_",
        "colab": {
          "base_uri": "https://localhost:8080/"
        },
        "outputId": "f9a01d1a-8815-4e76-d541-9886770e05a6"
      },
      "outputs": [
        {
          "output_type": "stream",
          "name": "stdout",
          "text": [
            "time: 1.74 ms (started: 2024-01-07 15:44:09 +00:00)\n"
          ]
        }
      ],
      "source": [
        "import numpy as np\n",
        "import os\n",
        "import pandas as pd\n",
        "import seaborn as sns\n",
        "import matplotlib.pyplot as plt\n",
        "from sklearn.model_selection import cross_val_score\n",
        "from sklearn.model_selection import train_test_split\n",
        "from sklearn.neighbors import KNeighborsClassifier\n",
        "from collections import Counter\n",
        "from sklearn.metrics import accuracy_score\n",
        "from imblearn.under_sampling import CondensedNearestNeighbour\n",
        "from sklearn.decomposition import PCA\n",
        "from sklearn.preprocessing import StandardScaler\n",
        "from imblearn.over_sampling import SMOTE\n",
        "from sklearn.metrics import f1_score\n",
        "from imblearn.datasets import make_imbalance\n",
        "from sklearn.neighbors import KDTree\n",
        "from sklearn.neighbors import BallTree\n",
        "import time\n"
      ]
    },
    {
      "cell_type": "code",
      "source": [
        "!pip install ipython-autotime\n",
        "\n",
        "%load_ext autotime"
      ],
      "metadata": {
        "colab": {
          "base_uri": "https://localhost:8080/"
        },
        "id": "fdwA9fWmgGEB",
        "outputId": "46ff0001-79e5-43aa-b13e-29d65e7de45c"
      },
      "execution_count": 121,
      "outputs": [
        {
          "output_type": "stream",
          "name": "stdout",
          "text": [
            "Requirement already satisfied: ipython-autotime in /usr/local/lib/python3.10/dist-packages (0.3.2)\n",
            "Requirement already satisfied: ipython in /usr/local/lib/python3.10/dist-packages (from ipython-autotime) (7.34.0)\n",
            "Requirement already satisfied: setuptools>=18.5 in /usr/local/lib/python3.10/dist-packages (from ipython->ipython-autotime) (67.7.2)\n",
            "Requirement already satisfied: jedi>=0.16 in /usr/local/lib/python3.10/dist-packages (from ipython->ipython-autotime) (0.19.1)\n",
            "Requirement already satisfied: decorator in /usr/local/lib/python3.10/dist-packages (from ipython->ipython-autotime) (4.4.2)\n",
            "Requirement already satisfied: pickleshare in /usr/local/lib/python3.10/dist-packages (from ipython->ipython-autotime) (0.7.5)\n",
            "Requirement already satisfied: traitlets>=4.2 in /usr/local/lib/python3.10/dist-packages (from ipython->ipython-autotime) (5.7.1)\n",
            "Requirement already satisfied: prompt-toolkit!=3.0.0,!=3.0.1,<3.1.0,>=2.0.0 in /usr/local/lib/python3.10/dist-packages (from ipython->ipython-autotime) (3.0.43)\n",
            "Requirement already satisfied: pygments in /usr/local/lib/python3.10/dist-packages (from ipython->ipython-autotime) (2.16.1)\n",
            "Requirement already satisfied: backcall in /usr/local/lib/python3.10/dist-packages (from ipython->ipython-autotime) (0.2.0)\n",
            "Requirement already satisfied: matplotlib-inline in /usr/local/lib/python3.10/dist-packages (from ipython->ipython-autotime) (0.1.6)\n",
            "Requirement already satisfied: pexpect>4.3 in /usr/local/lib/python3.10/dist-packages (from ipython->ipython-autotime) (4.9.0)\n",
            "Requirement already satisfied: parso<0.9.0,>=0.8.3 in /usr/local/lib/python3.10/dist-packages (from jedi>=0.16->ipython->ipython-autotime) (0.8.3)\n",
            "Requirement already satisfied: ptyprocess>=0.5 in /usr/local/lib/python3.10/dist-packages (from pexpect>4.3->ipython->ipython-autotime) (0.7.0)\n",
            "Requirement already satisfied: wcwidth in /usr/local/lib/python3.10/dist-packages (from prompt-toolkit!=3.0.0,!=3.0.1,<3.1.0,>=2.0.0->ipython->ipython-autotime) (0.2.12)\n",
            "The autotime extension is already loaded. To reload it, use:\n",
            "  %reload_ext autotime\n",
            "time: 13.5 s (started: 2024-01-07 15:44:09 +00:00)\n"
          ]
        }
      ]
    },
    {
      "cell_type": "code",
      "source": [
        "df = pd.read_csv(\"/content/drive/MyDrive/Colab Notebooks/waveform_data.csv\")"
      ],
      "metadata": {
        "id": "XUhxKQFXuPCI",
        "colab": {
          "base_uri": "https://localhost:8080/"
        },
        "outputId": "a469e66f-11ec-4bed-8801-5c07179edc1a"
      },
      "execution_count": 122,
      "outputs": [
        {
          "output_type": "stream",
          "name": "stdout",
          "text": [
            "time: 160 ms (started: 2024-01-07 15:44:23 +00:00)\n"
          ]
        }
      ]
    },
    {
      "cell_type": "markdown",
      "source": [
        "# **Importing the dataset**\n",
        "\n",
        "Since we use google, we have uploaded the dataset to google drive and set the location for easier access. Location can be modified as per user's dataset location."
      ],
      "metadata": {
        "id": "jN-uQagExaAx"
      }
    },
    {
      "cell_type": "code",
      "source": [
        "df.head()"
      ],
      "metadata": {
        "colab": {
          "base_uri": "https://localhost:8080/",
          "height": 253
        },
        "id": "bEyz4p1MuY1s",
        "outputId": "15089472-d859-4a7c-c741-95560ff9156e"
      },
      "execution_count": 123,
      "outputs": [
        {
          "output_type": "execute_result",
          "data": {
            "text/plain": [
              "      0     1     2     3     4     5     6     7     8     9  ...    12  \\\n",
              "0 -1.23 -1.56 -1.75 -0.28  0.60  2.22  0.85  0.21 -0.20  0.89  ...  2.89   \n",
              "1 -0.69  2.43  0.61  2.08  2.30  3.25  5.52  4.55  2.97  2.22  ...  1.24   \n",
              "2 -0.12 -0.94  1.29  2.59  2.42  3.55  4.94  3.25  1.90  2.07  ...  2.50   \n",
              "3  0.86  0.29  2.19 -0.02  1.13  2.51  2.37  5.45  5.45  4.84  ...  2.58   \n",
              "4  1.16  0.37  0.40 -0.59  2.66  1.00  2.69  4.06  5.34  3.53  ...  4.30   \n",
              "\n",
              "     13    14    15    16    17    18    19    20  21  \n",
              "0  7.75  4.59  3.15  5.12  3.32  1.20  0.24 -0.56   2  \n",
              "1  1.89  1.88 -1.34  0.83  1.41  1.78  0.60  2.42   1  \n",
              "2  0.12  1.41  2.78  0.64  0.62 -0.01 -0.79 -0.12   0  \n",
              "3  1.40  1.24  1.41  1.07 -1.43  2.84 -1.18  1.12   1  \n",
              "4  1.84  1.73  0.21 -0.18  0.13 -0.21 -0.80 -0.68   1  \n",
              "\n",
              "[5 rows x 22 columns]"
            ],
            "text/html": [
              "\n",
              "  <div id=\"df-a1c07c12-ed75-4d4e-bd5a-b6a27b30395b\" class=\"colab-df-container\">\n",
              "    <div>\n",
              "<style scoped>\n",
              "    .dataframe tbody tr th:only-of-type {\n",
              "        vertical-align: middle;\n",
              "    }\n",
              "\n",
              "    .dataframe tbody tr th {\n",
              "        vertical-align: top;\n",
              "    }\n",
              "\n",
              "    .dataframe thead th {\n",
              "        text-align: right;\n",
              "    }\n",
              "</style>\n",
              "<table border=\"1\" class=\"dataframe\">\n",
              "  <thead>\n",
              "    <tr style=\"text-align: right;\">\n",
              "      <th></th>\n",
              "      <th>0</th>\n",
              "      <th>1</th>\n",
              "      <th>2</th>\n",
              "      <th>3</th>\n",
              "      <th>4</th>\n",
              "      <th>5</th>\n",
              "      <th>6</th>\n",
              "      <th>7</th>\n",
              "      <th>8</th>\n",
              "      <th>9</th>\n",
              "      <th>...</th>\n",
              "      <th>12</th>\n",
              "      <th>13</th>\n",
              "      <th>14</th>\n",
              "      <th>15</th>\n",
              "      <th>16</th>\n",
              "      <th>17</th>\n",
              "      <th>18</th>\n",
              "      <th>19</th>\n",
              "      <th>20</th>\n",
              "      <th>21</th>\n",
              "    </tr>\n",
              "  </thead>\n",
              "  <tbody>\n",
              "    <tr>\n",
              "      <th>0</th>\n",
              "      <td>-1.23</td>\n",
              "      <td>-1.56</td>\n",
              "      <td>-1.75</td>\n",
              "      <td>-0.28</td>\n",
              "      <td>0.60</td>\n",
              "      <td>2.22</td>\n",
              "      <td>0.85</td>\n",
              "      <td>0.21</td>\n",
              "      <td>-0.20</td>\n",
              "      <td>0.89</td>\n",
              "      <td>...</td>\n",
              "      <td>2.89</td>\n",
              "      <td>7.75</td>\n",
              "      <td>4.59</td>\n",
              "      <td>3.15</td>\n",
              "      <td>5.12</td>\n",
              "      <td>3.32</td>\n",
              "      <td>1.20</td>\n",
              "      <td>0.24</td>\n",
              "      <td>-0.56</td>\n",
              "      <td>2</td>\n",
              "    </tr>\n",
              "    <tr>\n",
              "      <th>1</th>\n",
              "      <td>-0.69</td>\n",
              "      <td>2.43</td>\n",
              "      <td>0.61</td>\n",
              "      <td>2.08</td>\n",
              "      <td>2.30</td>\n",
              "      <td>3.25</td>\n",
              "      <td>5.52</td>\n",
              "      <td>4.55</td>\n",
              "      <td>2.97</td>\n",
              "      <td>2.22</td>\n",
              "      <td>...</td>\n",
              "      <td>1.24</td>\n",
              "      <td>1.89</td>\n",
              "      <td>1.88</td>\n",
              "      <td>-1.34</td>\n",
              "      <td>0.83</td>\n",
              "      <td>1.41</td>\n",
              "      <td>1.78</td>\n",
              "      <td>0.60</td>\n",
              "      <td>2.42</td>\n",
              "      <td>1</td>\n",
              "    </tr>\n",
              "    <tr>\n",
              "      <th>2</th>\n",
              "      <td>-0.12</td>\n",
              "      <td>-0.94</td>\n",
              "      <td>1.29</td>\n",
              "      <td>2.59</td>\n",
              "      <td>2.42</td>\n",
              "      <td>3.55</td>\n",
              "      <td>4.94</td>\n",
              "      <td>3.25</td>\n",
              "      <td>1.90</td>\n",
              "      <td>2.07</td>\n",
              "      <td>...</td>\n",
              "      <td>2.50</td>\n",
              "      <td>0.12</td>\n",
              "      <td>1.41</td>\n",
              "      <td>2.78</td>\n",
              "      <td>0.64</td>\n",
              "      <td>0.62</td>\n",
              "      <td>-0.01</td>\n",
              "      <td>-0.79</td>\n",
              "      <td>-0.12</td>\n",
              "      <td>0</td>\n",
              "    </tr>\n",
              "    <tr>\n",
              "      <th>3</th>\n",
              "      <td>0.86</td>\n",
              "      <td>0.29</td>\n",
              "      <td>2.19</td>\n",
              "      <td>-0.02</td>\n",
              "      <td>1.13</td>\n",
              "      <td>2.51</td>\n",
              "      <td>2.37</td>\n",
              "      <td>5.45</td>\n",
              "      <td>5.45</td>\n",
              "      <td>4.84</td>\n",
              "      <td>...</td>\n",
              "      <td>2.58</td>\n",
              "      <td>1.40</td>\n",
              "      <td>1.24</td>\n",
              "      <td>1.41</td>\n",
              "      <td>1.07</td>\n",
              "      <td>-1.43</td>\n",
              "      <td>2.84</td>\n",
              "      <td>-1.18</td>\n",
              "      <td>1.12</td>\n",
              "      <td>1</td>\n",
              "    </tr>\n",
              "    <tr>\n",
              "      <th>4</th>\n",
              "      <td>1.16</td>\n",
              "      <td>0.37</td>\n",
              "      <td>0.40</td>\n",
              "      <td>-0.59</td>\n",
              "      <td>2.66</td>\n",
              "      <td>1.00</td>\n",
              "      <td>2.69</td>\n",
              "      <td>4.06</td>\n",
              "      <td>5.34</td>\n",
              "      <td>3.53</td>\n",
              "      <td>...</td>\n",
              "      <td>4.30</td>\n",
              "      <td>1.84</td>\n",
              "      <td>1.73</td>\n",
              "      <td>0.21</td>\n",
              "      <td>-0.18</td>\n",
              "      <td>0.13</td>\n",
              "      <td>-0.21</td>\n",
              "      <td>-0.80</td>\n",
              "      <td>-0.68</td>\n",
              "      <td>1</td>\n",
              "    </tr>\n",
              "  </tbody>\n",
              "</table>\n",
              "<p>5 rows × 22 columns</p>\n",
              "</div>\n",
              "    <div class=\"colab-df-buttons\">\n",
              "\n",
              "  <div class=\"colab-df-container\">\n",
              "    <button class=\"colab-df-convert\" onclick=\"convertToInteractive('df-a1c07c12-ed75-4d4e-bd5a-b6a27b30395b')\"\n",
              "            title=\"Convert this dataframe to an interactive table.\"\n",
              "            style=\"display:none;\">\n",
              "\n",
              "  <svg xmlns=\"http://www.w3.org/2000/svg\" height=\"24px\" viewBox=\"0 -960 960 960\">\n",
              "    <path d=\"M120-120v-720h720v720H120Zm60-500h600v-160H180v160Zm220 220h160v-160H400v160Zm0 220h160v-160H400v160ZM180-400h160v-160H180v160Zm440 0h160v-160H620v160ZM180-180h160v-160H180v160Zm440 0h160v-160H620v160Z\"/>\n",
              "  </svg>\n",
              "    </button>\n",
              "\n",
              "  <style>\n",
              "    .colab-df-container {\n",
              "      display:flex;\n",
              "      gap: 12px;\n",
              "    }\n",
              "\n",
              "    .colab-df-convert {\n",
              "      background-color: #E8F0FE;\n",
              "      border: none;\n",
              "      border-radius: 50%;\n",
              "      cursor: pointer;\n",
              "      display: none;\n",
              "      fill: #1967D2;\n",
              "      height: 32px;\n",
              "      padding: 0 0 0 0;\n",
              "      width: 32px;\n",
              "    }\n",
              "\n",
              "    .colab-df-convert:hover {\n",
              "      background-color: #E2EBFA;\n",
              "      box-shadow: 0px 1px 2px rgba(60, 64, 67, 0.3), 0px 1px 3px 1px rgba(60, 64, 67, 0.15);\n",
              "      fill: #174EA6;\n",
              "    }\n",
              "\n",
              "    .colab-df-buttons div {\n",
              "      margin-bottom: 4px;\n",
              "    }\n",
              "\n",
              "    [theme=dark] .colab-df-convert {\n",
              "      background-color: #3B4455;\n",
              "      fill: #D2E3FC;\n",
              "    }\n",
              "\n",
              "    [theme=dark] .colab-df-convert:hover {\n",
              "      background-color: #434B5C;\n",
              "      box-shadow: 0px 1px 3px 1px rgba(0, 0, 0, 0.15);\n",
              "      filter: drop-shadow(0px 1px 2px rgba(0, 0, 0, 0.3));\n",
              "      fill: #FFFFFF;\n",
              "    }\n",
              "  </style>\n",
              "\n",
              "    <script>\n",
              "      const buttonEl =\n",
              "        document.querySelector('#df-a1c07c12-ed75-4d4e-bd5a-b6a27b30395b button.colab-df-convert');\n",
              "      buttonEl.style.display =\n",
              "        google.colab.kernel.accessAllowed ? 'block' : 'none';\n",
              "\n",
              "      async function convertToInteractive(key) {\n",
              "        const element = document.querySelector('#df-a1c07c12-ed75-4d4e-bd5a-b6a27b30395b');\n",
              "        const dataTable =\n",
              "          await google.colab.kernel.invokeFunction('convertToInteractive',\n",
              "                                                    [key], {});\n",
              "        if (!dataTable) return;\n",
              "\n",
              "        const docLinkHtml = 'Like what you see? Visit the ' +\n",
              "          '<a target=\"_blank\" href=https://colab.research.google.com/notebooks/data_table.ipynb>data table notebook</a>'\n",
              "          + ' to learn more about interactive tables.';\n",
              "        element.innerHTML = '';\n",
              "        dataTable['output_type'] = 'display_data';\n",
              "        await google.colab.output.renderOutput(dataTable, element);\n",
              "        const docLink = document.createElement('div');\n",
              "        docLink.innerHTML = docLinkHtml;\n",
              "        element.appendChild(docLink);\n",
              "      }\n",
              "    </script>\n",
              "  </div>\n",
              "\n",
              "\n",
              "<div id=\"df-0deda3fa-e788-422b-83c6-bd60a742f566\">\n",
              "  <button class=\"colab-df-quickchart\" onclick=\"quickchart('df-0deda3fa-e788-422b-83c6-bd60a742f566')\"\n",
              "            title=\"Suggest charts\"\n",
              "            style=\"display:none;\">\n",
              "\n",
              "<svg xmlns=\"http://www.w3.org/2000/svg\" height=\"24px\"viewBox=\"0 0 24 24\"\n",
              "     width=\"24px\">\n",
              "    <g>\n",
              "        <path d=\"M19 3H5c-1.1 0-2 .9-2 2v14c0 1.1.9 2 2 2h14c1.1 0 2-.9 2-2V5c0-1.1-.9-2-2-2zM9 17H7v-7h2v7zm4 0h-2V7h2v10zm4 0h-2v-4h2v4z\"/>\n",
              "    </g>\n",
              "</svg>\n",
              "  </button>\n",
              "\n",
              "<style>\n",
              "  .colab-df-quickchart {\n",
              "      --bg-color: #E8F0FE;\n",
              "      --fill-color: #1967D2;\n",
              "      --hover-bg-color: #E2EBFA;\n",
              "      --hover-fill-color: #174EA6;\n",
              "      --disabled-fill-color: #AAA;\n",
              "      --disabled-bg-color: #DDD;\n",
              "  }\n",
              "\n",
              "  [theme=dark] .colab-df-quickchart {\n",
              "      --bg-color: #3B4455;\n",
              "      --fill-color: #D2E3FC;\n",
              "      --hover-bg-color: #434B5C;\n",
              "      --hover-fill-color: #FFFFFF;\n",
              "      --disabled-bg-color: #3B4455;\n",
              "      --disabled-fill-color: #666;\n",
              "  }\n",
              "\n",
              "  .colab-df-quickchart {\n",
              "    background-color: var(--bg-color);\n",
              "    border: none;\n",
              "    border-radius: 50%;\n",
              "    cursor: pointer;\n",
              "    display: none;\n",
              "    fill: var(--fill-color);\n",
              "    height: 32px;\n",
              "    padding: 0;\n",
              "    width: 32px;\n",
              "  }\n",
              "\n",
              "  .colab-df-quickchart:hover {\n",
              "    background-color: var(--hover-bg-color);\n",
              "    box-shadow: 0 1px 2px rgba(60, 64, 67, 0.3), 0 1px 3px 1px rgba(60, 64, 67, 0.15);\n",
              "    fill: var(--button-hover-fill-color);\n",
              "  }\n",
              "\n",
              "  .colab-df-quickchart-complete:disabled,\n",
              "  .colab-df-quickchart-complete:disabled:hover {\n",
              "    background-color: var(--disabled-bg-color);\n",
              "    fill: var(--disabled-fill-color);\n",
              "    box-shadow: none;\n",
              "  }\n",
              "\n",
              "  .colab-df-spinner {\n",
              "    border: 2px solid var(--fill-color);\n",
              "    border-color: transparent;\n",
              "    border-bottom-color: var(--fill-color);\n",
              "    animation:\n",
              "      spin 1s steps(1) infinite;\n",
              "  }\n",
              "\n",
              "  @keyframes spin {\n",
              "    0% {\n",
              "      border-color: transparent;\n",
              "      border-bottom-color: var(--fill-color);\n",
              "      border-left-color: var(--fill-color);\n",
              "    }\n",
              "    20% {\n",
              "      border-color: transparent;\n",
              "      border-left-color: var(--fill-color);\n",
              "      border-top-color: var(--fill-color);\n",
              "    }\n",
              "    30% {\n",
              "      border-color: transparent;\n",
              "      border-left-color: var(--fill-color);\n",
              "      border-top-color: var(--fill-color);\n",
              "      border-right-color: var(--fill-color);\n",
              "    }\n",
              "    40% {\n",
              "      border-color: transparent;\n",
              "      border-right-color: var(--fill-color);\n",
              "      border-top-color: var(--fill-color);\n",
              "    }\n",
              "    60% {\n",
              "      border-color: transparent;\n",
              "      border-right-color: var(--fill-color);\n",
              "    }\n",
              "    80% {\n",
              "      border-color: transparent;\n",
              "      border-right-color: var(--fill-color);\n",
              "      border-bottom-color: var(--fill-color);\n",
              "    }\n",
              "    90% {\n",
              "      border-color: transparent;\n",
              "      border-bottom-color: var(--fill-color);\n",
              "    }\n",
              "  }\n",
              "</style>\n",
              "\n",
              "  <script>\n",
              "    async function quickchart(key) {\n",
              "      const quickchartButtonEl =\n",
              "        document.querySelector('#' + key + ' button');\n",
              "      quickchartButtonEl.disabled = true;  // To prevent multiple clicks.\n",
              "      quickchartButtonEl.classList.add('colab-df-spinner');\n",
              "      try {\n",
              "        const charts = await google.colab.kernel.invokeFunction(\n",
              "            'suggestCharts', [key], {});\n",
              "      } catch (error) {\n",
              "        console.error('Error during call to suggestCharts:', error);\n",
              "      }\n",
              "      quickchartButtonEl.classList.remove('colab-df-spinner');\n",
              "      quickchartButtonEl.classList.add('colab-df-quickchart-complete');\n",
              "    }\n",
              "    (() => {\n",
              "      let quickchartButtonEl =\n",
              "        document.querySelector('#df-0deda3fa-e788-422b-83c6-bd60a742f566 button');\n",
              "      quickchartButtonEl.style.display =\n",
              "        google.colab.kernel.accessAllowed ? 'block' : 'none';\n",
              "    })();\n",
              "  </script>\n",
              "</div>\n",
              "    </div>\n",
              "  </div>\n"
            ]
          },
          "metadata": {},
          "execution_count": 123
        },
        {
          "output_type": "stream",
          "name": "stdout",
          "text": [
            "time: 96.9 ms (started: 2024-01-07 15:44:23 +00:00)\n"
          ]
        }
      ]
    },
    {
      "cell_type": "markdown",
      "source": [
        "# **Reading and describing the dataset**\n",
        "\n",
        "The shape for the dataset is 5000 x 21. There are three different classifications of the waveform as 0,1 and 2."
      ],
      "metadata": {
        "id": "wcZsp5M1x11_"
      }
    },
    {
      "cell_type": "code",
      "source": [
        "df.shape"
      ],
      "metadata": {
        "colab": {
          "base_uri": "https://localhost:8080/"
        },
        "id": "614d49KTyCl5",
        "outputId": "1d89f48e-2c39-4c74-fa5b-5af82342181b"
      },
      "execution_count": 124,
      "outputs": [
        {
          "output_type": "execute_result",
          "data": {
            "text/plain": [
              "(5000, 22)"
            ]
          },
          "metadata": {},
          "execution_count": 124
        },
        {
          "output_type": "stream",
          "name": "stdout",
          "text": [
            "time: 2.84 ms (started: 2024-01-07 15:44:23 +00:00)\n"
          ]
        }
      ]
    },
    {
      "cell_type": "code",
      "source": [
        "df.describe()"
      ],
      "metadata": {
        "colab": {
          "base_uri": "https://localhost:8080/",
          "height": 367
        },
        "id": "fPdHu0DPuaJS",
        "outputId": "21bec9aa-bb30-45ff-b4e1-b43951370a5c"
      },
      "execution_count": 125,
      "outputs": [
        {
          "output_type": "execute_result",
          "data": {
            "text/plain": [
              "                 0            1            2            3            4  \\\n",
              "count  5000.000000  5000.000000  5000.000000  5000.000000  5000.000000   \n",
              "mean      0.005144     0.338746     0.672438     0.991610     1.310888   \n",
              "std       1.010130     1.053657     1.187970     1.415239     1.678291   \n",
              "min      -3.340000    -3.250000    -4.200000    -3.840000    -3.480000   \n",
              "25%      -0.680000    -0.372500    -0.150000    -0.020000     0.037500   \n",
              "50%       0.010000     0.340000     0.660000     0.940000     1.120000   \n",
              "75%       0.690000     1.050000     1.460000     1.970000     2.540000   \n",
              "max       3.940000     3.880000     4.720000     5.750000     6.500000   \n",
              "\n",
              "                 5            6            7            8            9  ...  \\\n",
              "count  5000.000000  5000.000000  5000.000000  5000.000000  5000.000000  ...   \n",
              "mean      1.997306     2.661806     2.659228     2.672086     2.988668  ...   \n",
              "std       1.814187     2.015774     1.746067     1.663277     1.531506  ...   \n",
              "min      -2.760000    -3.320000    -3.520000    -3.380000    -1.790000  ...   \n",
              "25%       0.590000     1.110000     1.390000     1.470000     1.880000  ...   \n",
              "50%       1.860000     2.500000     2.720000     2.810000     3.000000  ...   \n",
              "75%       3.340000     4.210000     3.940000     3.940000     4.080000  ...   \n",
              "max       7.620000     8.760000     7.840000     7.900000     7.630000  ...   \n",
              "\n",
              "                12           13           14           15           16  \\\n",
              "count  5000.000000  5000.000000  5000.000000  5000.000000  5000.000000   \n",
              "mean      2.678908     2.648632     2.647668     2.000504     1.335032   \n",
              "std       1.651588     1.760113     2.018768     1.810684     1.669949   \n",
              "min      -2.610000    -2.820000    -2.560000    -2.990000    -3.560000   \n",
              "25%       1.480000     1.360000     1.120000     0.640000     0.070000   \n",
              "50%       2.830000     2.700000     2.490000     1.820000     1.200000   \n",
              "75%       3.932500     3.980000     4.182500     3.330000     2.532500   \n",
              "max       7.500000     7.750000     8.720000     7.860000     6.740000   \n",
              "\n",
              "                17           18           19           20           21  \n",
              "count  5000.000000  5000.000000  5000.000000  5000.000000  5000.000000  \n",
              "mean      1.000622     0.661482     0.357300    -0.021378     1.007800  \n",
              "std       1.412815     1.197326     1.081337     0.997064     0.818946  \n",
              "min      -4.080000    -3.500000    -3.570000    -3.880000     0.000000  \n",
              "25%      -0.010000    -0.180000    -0.350000    -0.690000     0.000000  \n",
              "50%       0.940000     0.620000     0.350000    -0.030000     1.000000  \n",
              "75%       1.960000     1.470000     1.072500     0.660000     2.000000  \n",
              "max       6.200000     5.280000     4.650000     4.010000     2.000000  \n",
              "\n",
              "[8 rows x 22 columns]"
            ],
            "text/html": [
              "\n",
              "  <div id=\"df-13804f52-d49e-4b34-9ff9-d8d99c0078bc\" class=\"colab-df-container\">\n",
              "    <div>\n",
              "<style scoped>\n",
              "    .dataframe tbody tr th:only-of-type {\n",
              "        vertical-align: middle;\n",
              "    }\n",
              "\n",
              "    .dataframe tbody tr th {\n",
              "        vertical-align: top;\n",
              "    }\n",
              "\n",
              "    .dataframe thead th {\n",
              "        text-align: right;\n",
              "    }\n",
              "</style>\n",
              "<table border=\"1\" class=\"dataframe\">\n",
              "  <thead>\n",
              "    <tr style=\"text-align: right;\">\n",
              "      <th></th>\n",
              "      <th>0</th>\n",
              "      <th>1</th>\n",
              "      <th>2</th>\n",
              "      <th>3</th>\n",
              "      <th>4</th>\n",
              "      <th>5</th>\n",
              "      <th>6</th>\n",
              "      <th>7</th>\n",
              "      <th>8</th>\n",
              "      <th>9</th>\n",
              "      <th>...</th>\n",
              "      <th>12</th>\n",
              "      <th>13</th>\n",
              "      <th>14</th>\n",
              "      <th>15</th>\n",
              "      <th>16</th>\n",
              "      <th>17</th>\n",
              "      <th>18</th>\n",
              "      <th>19</th>\n",
              "      <th>20</th>\n",
              "      <th>21</th>\n",
              "    </tr>\n",
              "  </thead>\n",
              "  <tbody>\n",
              "    <tr>\n",
              "      <th>count</th>\n",
              "      <td>5000.000000</td>\n",
              "      <td>5000.000000</td>\n",
              "      <td>5000.000000</td>\n",
              "      <td>5000.000000</td>\n",
              "      <td>5000.000000</td>\n",
              "      <td>5000.000000</td>\n",
              "      <td>5000.000000</td>\n",
              "      <td>5000.000000</td>\n",
              "      <td>5000.000000</td>\n",
              "      <td>5000.000000</td>\n",
              "      <td>...</td>\n",
              "      <td>5000.000000</td>\n",
              "      <td>5000.000000</td>\n",
              "      <td>5000.000000</td>\n",
              "      <td>5000.000000</td>\n",
              "      <td>5000.000000</td>\n",
              "      <td>5000.000000</td>\n",
              "      <td>5000.000000</td>\n",
              "      <td>5000.000000</td>\n",
              "      <td>5000.000000</td>\n",
              "      <td>5000.000000</td>\n",
              "    </tr>\n",
              "    <tr>\n",
              "      <th>mean</th>\n",
              "      <td>0.005144</td>\n",
              "      <td>0.338746</td>\n",
              "      <td>0.672438</td>\n",
              "      <td>0.991610</td>\n",
              "      <td>1.310888</td>\n",
              "      <td>1.997306</td>\n",
              "      <td>2.661806</td>\n",
              "      <td>2.659228</td>\n",
              "      <td>2.672086</td>\n",
              "      <td>2.988668</td>\n",
              "      <td>...</td>\n",
              "      <td>2.678908</td>\n",
              "      <td>2.648632</td>\n",
              "      <td>2.647668</td>\n",
              "      <td>2.000504</td>\n",
              "      <td>1.335032</td>\n",
              "      <td>1.000622</td>\n",
              "      <td>0.661482</td>\n",
              "      <td>0.357300</td>\n",
              "      <td>-0.021378</td>\n",
              "      <td>1.007800</td>\n",
              "    </tr>\n",
              "    <tr>\n",
              "      <th>std</th>\n",
              "      <td>1.010130</td>\n",
              "      <td>1.053657</td>\n",
              "      <td>1.187970</td>\n",
              "      <td>1.415239</td>\n",
              "      <td>1.678291</td>\n",
              "      <td>1.814187</td>\n",
              "      <td>2.015774</td>\n",
              "      <td>1.746067</td>\n",
              "      <td>1.663277</td>\n",
              "      <td>1.531506</td>\n",
              "      <td>...</td>\n",
              "      <td>1.651588</td>\n",
              "      <td>1.760113</td>\n",
              "      <td>2.018768</td>\n",
              "      <td>1.810684</td>\n",
              "      <td>1.669949</td>\n",
              "      <td>1.412815</td>\n",
              "      <td>1.197326</td>\n",
              "      <td>1.081337</td>\n",
              "      <td>0.997064</td>\n",
              "      <td>0.818946</td>\n",
              "    </tr>\n",
              "    <tr>\n",
              "      <th>min</th>\n",
              "      <td>-3.340000</td>\n",
              "      <td>-3.250000</td>\n",
              "      <td>-4.200000</td>\n",
              "      <td>-3.840000</td>\n",
              "      <td>-3.480000</td>\n",
              "      <td>-2.760000</td>\n",
              "      <td>-3.320000</td>\n",
              "      <td>-3.520000</td>\n",
              "      <td>-3.380000</td>\n",
              "      <td>-1.790000</td>\n",
              "      <td>...</td>\n",
              "      <td>-2.610000</td>\n",
              "      <td>-2.820000</td>\n",
              "      <td>-2.560000</td>\n",
              "      <td>-2.990000</td>\n",
              "      <td>-3.560000</td>\n",
              "      <td>-4.080000</td>\n",
              "      <td>-3.500000</td>\n",
              "      <td>-3.570000</td>\n",
              "      <td>-3.880000</td>\n",
              "      <td>0.000000</td>\n",
              "    </tr>\n",
              "    <tr>\n",
              "      <th>25%</th>\n",
              "      <td>-0.680000</td>\n",
              "      <td>-0.372500</td>\n",
              "      <td>-0.150000</td>\n",
              "      <td>-0.020000</td>\n",
              "      <td>0.037500</td>\n",
              "      <td>0.590000</td>\n",
              "      <td>1.110000</td>\n",
              "      <td>1.390000</td>\n",
              "      <td>1.470000</td>\n",
              "      <td>1.880000</td>\n",
              "      <td>...</td>\n",
              "      <td>1.480000</td>\n",
              "      <td>1.360000</td>\n",
              "      <td>1.120000</td>\n",
              "      <td>0.640000</td>\n",
              "      <td>0.070000</td>\n",
              "      <td>-0.010000</td>\n",
              "      <td>-0.180000</td>\n",
              "      <td>-0.350000</td>\n",
              "      <td>-0.690000</td>\n",
              "      <td>0.000000</td>\n",
              "    </tr>\n",
              "    <tr>\n",
              "      <th>50%</th>\n",
              "      <td>0.010000</td>\n",
              "      <td>0.340000</td>\n",
              "      <td>0.660000</td>\n",
              "      <td>0.940000</td>\n",
              "      <td>1.120000</td>\n",
              "      <td>1.860000</td>\n",
              "      <td>2.500000</td>\n",
              "      <td>2.720000</td>\n",
              "      <td>2.810000</td>\n",
              "      <td>3.000000</td>\n",
              "      <td>...</td>\n",
              "      <td>2.830000</td>\n",
              "      <td>2.700000</td>\n",
              "      <td>2.490000</td>\n",
              "      <td>1.820000</td>\n",
              "      <td>1.200000</td>\n",
              "      <td>0.940000</td>\n",
              "      <td>0.620000</td>\n",
              "      <td>0.350000</td>\n",
              "      <td>-0.030000</td>\n",
              "      <td>1.000000</td>\n",
              "    </tr>\n",
              "    <tr>\n",
              "      <th>75%</th>\n",
              "      <td>0.690000</td>\n",
              "      <td>1.050000</td>\n",
              "      <td>1.460000</td>\n",
              "      <td>1.970000</td>\n",
              "      <td>2.540000</td>\n",
              "      <td>3.340000</td>\n",
              "      <td>4.210000</td>\n",
              "      <td>3.940000</td>\n",
              "      <td>3.940000</td>\n",
              "      <td>4.080000</td>\n",
              "      <td>...</td>\n",
              "      <td>3.932500</td>\n",
              "      <td>3.980000</td>\n",
              "      <td>4.182500</td>\n",
              "      <td>3.330000</td>\n",
              "      <td>2.532500</td>\n",
              "      <td>1.960000</td>\n",
              "      <td>1.470000</td>\n",
              "      <td>1.072500</td>\n",
              "      <td>0.660000</td>\n",
              "      <td>2.000000</td>\n",
              "    </tr>\n",
              "    <tr>\n",
              "      <th>max</th>\n",
              "      <td>3.940000</td>\n",
              "      <td>3.880000</td>\n",
              "      <td>4.720000</td>\n",
              "      <td>5.750000</td>\n",
              "      <td>6.500000</td>\n",
              "      <td>7.620000</td>\n",
              "      <td>8.760000</td>\n",
              "      <td>7.840000</td>\n",
              "      <td>7.900000</td>\n",
              "      <td>7.630000</td>\n",
              "      <td>...</td>\n",
              "      <td>7.500000</td>\n",
              "      <td>7.750000</td>\n",
              "      <td>8.720000</td>\n",
              "      <td>7.860000</td>\n",
              "      <td>6.740000</td>\n",
              "      <td>6.200000</td>\n",
              "      <td>5.280000</td>\n",
              "      <td>4.650000</td>\n",
              "      <td>4.010000</td>\n",
              "      <td>2.000000</td>\n",
              "    </tr>\n",
              "  </tbody>\n",
              "</table>\n",
              "<p>8 rows × 22 columns</p>\n",
              "</div>\n",
              "    <div class=\"colab-df-buttons\">\n",
              "\n",
              "  <div class=\"colab-df-container\">\n",
              "    <button class=\"colab-df-convert\" onclick=\"convertToInteractive('df-13804f52-d49e-4b34-9ff9-d8d99c0078bc')\"\n",
              "            title=\"Convert this dataframe to an interactive table.\"\n",
              "            style=\"display:none;\">\n",
              "\n",
              "  <svg xmlns=\"http://www.w3.org/2000/svg\" height=\"24px\" viewBox=\"0 -960 960 960\">\n",
              "    <path d=\"M120-120v-720h720v720H120Zm60-500h600v-160H180v160Zm220 220h160v-160H400v160Zm0 220h160v-160H400v160ZM180-400h160v-160H180v160Zm440 0h160v-160H620v160ZM180-180h160v-160H180v160Zm440 0h160v-160H620v160Z\"/>\n",
              "  </svg>\n",
              "    </button>\n",
              "\n",
              "  <style>\n",
              "    .colab-df-container {\n",
              "      display:flex;\n",
              "      gap: 12px;\n",
              "    }\n",
              "\n",
              "    .colab-df-convert {\n",
              "      background-color: #E8F0FE;\n",
              "      border: none;\n",
              "      border-radius: 50%;\n",
              "      cursor: pointer;\n",
              "      display: none;\n",
              "      fill: #1967D2;\n",
              "      height: 32px;\n",
              "      padding: 0 0 0 0;\n",
              "      width: 32px;\n",
              "    }\n",
              "\n",
              "    .colab-df-convert:hover {\n",
              "      background-color: #E2EBFA;\n",
              "      box-shadow: 0px 1px 2px rgba(60, 64, 67, 0.3), 0px 1px 3px 1px rgba(60, 64, 67, 0.15);\n",
              "      fill: #174EA6;\n",
              "    }\n",
              "\n",
              "    .colab-df-buttons div {\n",
              "      margin-bottom: 4px;\n",
              "    }\n",
              "\n",
              "    [theme=dark] .colab-df-convert {\n",
              "      background-color: #3B4455;\n",
              "      fill: #D2E3FC;\n",
              "    }\n",
              "\n",
              "    [theme=dark] .colab-df-convert:hover {\n",
              "      background-color: #434B5C;\n",
              "      box-shadow: 0px 1px 3px 1px rgba(0, 0, 0, 0.15);\n",
              "      filter: drop-shadow(0px 1px 2px rgba(0, 0, 0, 0.3));\n",
              "      fill: #FFFFFF;\n",
              "    }\n",
              "  </style>\n",
              "\n",
              "    <script>\n",
              "      const buttonEl =\n",
              "        document.querySelector('#df-13804f52-d49e-4b34-9ff9-d8d99c0078bc button.colab-df-convert');\n",
              "      buttonEl.style.display =\n",
              "        google.colab.kernel.accessAllowed ? 'block' : 'none';\n",
              "\n",
              "      async function convertToInteractive(key) {\n",
              "        const element = document.querySelector('#df-13804f52-d49e-4b34-9ff9-d8d99c0078bc');\n",
              "        const dataTable =\n",
              "          await google.colab.kernel.invokeFunction('convertToInteractive',\n",
              "                                                    [key], {});\n",
              "        if (!dataTable) return;\n",
              "\n",
              "        const docLinkHtml = 'Like what you see? Visit the ' +\n",
              "          '<a target=\"_blank\" href=https://colab.research.google.com/notebooks/data_table.ipynb>data table notebook</a>'\n",
              "          + ' to learn more about interactive tables.';\n",
              "        element.innerHTML = '';\n",
              "        dataTable['output_type'] = 'display_data';\n",
              "        await google.colab.output.renderOutput(dataTable, element);\n",
              "        const docLink = document.createElement('div');\n",
              "        docLink.innerHTML = docLinkHtml;\n",
              "        element.appendChild(docLink);\n",
              "      }\n",
              "    </script>\n",
              "  </div>\n",
              "\n",
              "\n",
              "<div id=\"df-9ac02e6e-e432-4c7b-8c5f-5968b45d2d67\">\n",
              "  <button class=\"colab-df-quickchart\" onclick=\"quickchart('df-9ac02e6e-e432-4c7b-8c5f-5968b45d2d67')\"\n",
              "            title=\"Suggest charts\"\n",
              "            style=\"display:none;\">\n",
              "\n",
              "<svg xmlns=\"http://www.w3.org/2000/svg\" height=\"24px\"viewBox=\"0 0 24 24\"\n",
              "     width=\"24px\">\n",
              "    <g>\n",
              "        <path d=\"M19 3H5c-1.1 0-2 .9-2 2v14c0 1.1.9 2 2 2h14c1.1 0 2-.9 2-2V5c0-1.1-.9-2-2-2zM9 17H7v-7h2v7zm4 0h-2V7h2v10zm4 0h-2v-4h2v4z\"/>\n",
              "    </g>\n",
              "</svg>\n",
              "  </button>\n",
              "\n",
              "<style>\n",
              "  .colab-df-quickchart {\n",
              "      --bg-color: #E8F0FE;\n",
              "      --fill-color: #1967D2;\n",
              "      --hover-bg-color: #E2EBFA;\n",
              "      --hover-fill-color: #174EA6;\n",
              "      --disabled-fill-color: #AAA;\n",
              "      --disabled-bg-color: #DDD;\n",
              "  }\n",
              "\n",
              "  [theme=dark] .colab-df-quickchart {\n",
              "      --bg-color: #3B4455;\n",
              "      --fill-color: #D2E3FC;\n",
              "      --hover-bg-color: #434B5C;\n",
              "      --hover-fill-color: #FFFFFF;\n",
              "      --disabled-bg-color: #3B4455;\n",
              "      --disabled-fill-color: #666;\n",
              "  }\n",
              "\n",
              "  .colab-df-quickchart {\n",
              "    background-color: var(--bg-color);\n",
              "    border: none;\n",
              "    border-radius: 50%;\n",
              "    cursor: pointer;\n",
              "    display: none;\n",
              "    fill: var(--fill-color);\n",
              "    height: 32px;\n",
              "    padding: 0;\n",
              "    width: 32px;\n",
              "  }\n",
              "\n",
              "  .colab-df-quickchart:hover {\n",
              "    background-color: var(--hover-bg-color);\n",
              "    box-shadow: 0 1px 2px rgba(60, 64, 67, 0.3), 0 1px 3px 1px rgba(60, 64, 67, 0.15);\n",
              "    fill: var(--button-hover-fill-color);\n",
              "  }\n",
              "\n",
              "  .colab-df-quickchart-complete:disabled,\n",
              "  .colab-df-quickchart-complete:disabled:hover {\n",
              "    background-color: var(--disabled-bg-color);\n",
              "    fill: var(--disabled-fill-color);\n",
              "    box-shadow: none;\n",
              "  }\n",
              "\n",
              "  .colab-df-spinner {\n",
              "    border: 2px solid var(--fill-color);\n",
              "    border-color: transparent;\n",
              "    border-bottom-color: var(--fill-color);\n",
              "    animation:\n",
              "      spin 1s steps(1) infinite;\n",
              "  }\n",
              "\n",
              "  @keyframes spin {\n",
              "    0% {\n",
              "      border-color: transparent;\n",
              "      border-bottom-color: var(--fill-color);\n",
              "      border-left-color: var(--fill-color);\n",
              "    }\n",
              "    20% {\n",
              "      border-color: transparent;\n",
              "      border-left-color: var(--fill-color);\n",
              "      border-top-color: var(--fill-color);\n",
              "    }\n",
              "    30% {\n",
              "      border-color: transparent;\n",
              "      border-left-color: var(--fill-color);\n",
              "      border-top-color: var(--fill-color);\n",
              "      border-right-color: var(--fill-color);\n",
              "    }\n",
              "    40% {\n",
              "      border-color: transparent;\n",
              "      border-right-color: var(--fill-color);\n",
              "      border-top-color: var(--fill-color);\n",
              "    }\n",
              "    60% {\n",
              "      border-color: transparent;\n",
              "      border-right-color: var(--fill-color);\n",
              "    }\n",
              "    80% {\n",
              "      border-color: transparent;\n",
              "      border-right-color: var(--fill-color);\n",
              "      border-bottom-color: var(--fill-color);\n",
              "    }\n",
              "    90% {\n",
              "      border-color: transparent;\n",
              "      border-bottom-color: var(--fill-color);\n",
              "    }\n",
              "  }\n",
              "</style>\n",
              "\n",
              "  <script>\n",
              "    async function quickchart(key) {\n",
              "      const quickchartButtonEl =\n",
              "        document.querySelector('#' + key + ' button');\n",
              "      quickchartButtonEl.disabled = true;  // To prevent multiple clicks.\n",
              "      quickchartButtonEl.classList.add('colab-df-spinner');\n",
              "      try {\n",
              "        const charts = await google.colab.kernel.invokeFunction(\n",
              "            'suggestCharts', [key], {});\n",
              "      } catch (error) {\n",
              "        console.error('Error during call to suggestCharts:', error);\n",
              "      }\n",
              "      quickchartButtonEl.classList.remove('colab-df-spinner');\n",
              "      quickchartButtonEl.classList.add('colab-df-quickchart-complete');\n",
              "    }\n",
              "    (() => {\n",
              "      let quickchartButtonEl =\n",
              "        document.querySelector('#df-9ac02e6e-e432-4c7b-8c5f-5968b45d2d67 button');\n",
              "      quickchartButtonEl.style.display =\n",
              "        google.colab.kernel.accessAllowed ? 'block' : 'none';\n",
              "    })();\n",
              "  </script>\n",
              "</div>\n",
              "    </div>\n",
              "  </div>\n"
            ]
          },
          "metadata": {},
          "execution_count": 125
        },
        {
          "output_type": "stream",
          "name": "stdout",
          "text": [
            "time: 337 ms (started: 2024-01-07 15:44:23 +00:00)\n"
          ]
        }
      ]
    },
    {
      "cell_type": "markdown",
      "source": [
        "# **Correlation matrix of the dataset is given below**"
      ],
      "metadata": {
        "id": "4WKn9H4axwCf"
      }
    },
    {
      "cell_type": "code",
      "source": [
        "correlation_matrix = df.corr()\n",
        "print(correlation_matrix)"
      ],
      "metadata": {
        "colab": {
          "base_uri": "https://localhost:8080/"
        },
        "id": "w6UfYiVTuekJ",
        "outputId": "7e7bb086-4fee-4838-d93f-3bb402709253"
      },
      "execution_count": 126,
      "outputs": [
        {
          "output_type": "stream",
          "name": "stdout",
          "text": [
            "           0         1         2         3         4         5         6  \\\n",
            "0   1.000000  0.003445 -0.012182 -0.008974 -0.010520  0.003936 -0.009380   \n",
            "1   0.003445  1.000000  0.168465  0.213244  0.260190  0.271216  0.258219   \n",
            "2  -0.012182  0.168465  1.000000  0.372892  0.430006  0.440335  0.440655   \n",
            "3  -0.008974  0.213244  0.372892  1.000000  0.558078  0.570066  0.565426   \n",
            "4  -0.010520  0.260190  0.430006  0.558078  1.000000  0.655717  0.655947   \n",
            "5   0.003936  0.271216  0.440335  0.570066  0.655717  1.000000  0.715144   \n",
            "6  -0.009380  0.258219  0.440655  0.565426  0.655947  0.715144  1.000000   \n",
            "7  -0.003983  0.212376  0.355403  0.430403  0.529678  0.609012  0.681378   \n",
            "8   0.014483  0.134737  0.209571  0.260621  0.300970  0.426313  0.520954   \n",
            "9   0.025222 -0.004828 -0.003468 -0.004680  0.002807  0.134934  0.222589   \n",
            "10  0.031390 -0.124312 -0.208134 -0.283565 -0.318316 -0.209955 -0.117340   \n",
            "11  0.007920 -0.207686 -0.357164 -0.456966 -0.527066 -0.485205 -0.419717   \n",
            "12  0.008378 -0.258503 -0.420435 -0.554221 -0.645430 -0.650546 -0.650875   \n",
            "13  0.001972 -0.231772 -0.409020 -0.516901 -0.608000 -0.657164 -0.708440   \n",
            "14 -0.003349 -0.201157 -0.355659 -0.458710 -0.527708 -0.626614 -0.703506   \n",
            "15 -0.015558 -0.172230 -0.288715 -0.370855 -0.439613 -0.541029 -0.617943   \n",
            "16  0.006227 -0.121178 -0.219605 -0.271240 -0.320260 -0.434345 -0.526650   \n",
            "17 -0.002217 -0.092741 -0.194988 -0.245196 -0.279496 -0.390972 -0.460166   \n",
            "18  0.012442 -0.084480 -0.139315 -0.173423 -0.215631 -0.291995 -0.358755   \n",
            "19 -0.002307 -0.054827 -0.086013 -0.110116 -0.127605 -0.181792 -0.217649   \n",
            "20 -0.020289  0.000210 -0.007345 -0.017835 -0.016286 -0.007209 -0.008078   \n",
            "21  0.021966 -0.201035 -0.336503 -0.436550 -0.502310 -0.463666 -0.418010   \n",
            "\n",
            "           7         8         9  ...        12        13        14        15  \\\n",
            "0  -0.003983  0.014483  0.025222  ...  0.008378  0.001972 -0.003349 -0.015558   \n",
            "1   0.212376  0.134737 -0.004828  ... -0.258503 -0.231772 -0.201157 -0.172230   \n",
            "2   0.355403  0.209571 -0.003468  ... -0.420435 -0.409020 -0.355659 -0.288715   \n",
            "3   0.430403  0.260621 -0.004680  ... -0.554221 -0.516901 -0.458710 -0.370855   \n",
            "4   0.529678  0.300970  0.002807  ... -0.645430 -0.608000 -0.527708 -0.439613   \n",
            "5   0.609012  0.426313  0.134934  ... -0.650546 -0.657164 -0.626614 -0.541029   \n",
            "6   0.681378  0.520954  0.222589  ... -0.650875 -0.708440 -0.703506 -0.617943   \n",
            "7   1.000000  0.597548  0.379615  ... -0.525896 -0.647556 -0.709068 -0.668155   \n",
            "8   0.597548  1.000000  0.530550  ... -0.309384 -0.508011 -0.653311 -0.654575   \n",
            "9   0.379615  0.530550  1.000000  ... -0.001459 -0.258667 -0.441610 -0.487913   \n",
            "10  0.092089  0.335527  0.536908  ...  0.313823  0.068769 -0.140410 -0.225145   \n",
            "11 -0.241541  0.013138  0.279694  ...  0.512777  0.370037  0.203841  0.117504   \n",
            "12 -0.525896 -0.309384 -0.001459  ...  1.000000  0.598568  0.522211  0.430433   \n",
            "13 -0.647556 -0.508011 -0.258667  ...  0.598568  1.000000  0.668762  0.605731   \n",
            "14 -0.709068 -0.653311 -0.441610  ...  0.522211  0.668762  1.000000  0.721177   \n",
            "15 -0.668155 -0.654575 -0.487913  ...  0.430433  0.605731  0.721177  1.000000   \n",
            "16 -0.604254 -0.641575 -0.533508  ...  0.314689  0.524681  0.668598  0.661608   \n",
            "17 -0.526140 -0.561005 -0.474153  ...  0.278070  0.457578  0.586932  0.583048   \n",
            "18 -0.410641 -0.429375 -0.366523  ...  0.210337  0.348963  0.444366  0.447444   \n",
            "19 -0.244538 -0.265949 -0.195432  ...  0.125447  0.205312  0.266127  0.268479   \n",
            "20 -0.017221  0.004441  0.024662  ...  0.049142  0.005636  0.004913  0.008337   \n",
            "21 -0.244951 -0.002829  0.261944  ...  0.503435  0.356781  0.208437  0.126173   \n",
            "\n",
            "          16        17        18        19        20        21  \n",
            "0   0.006227 -0.002217  0.012442 -0.002307 -0.020289  0.021966  \n",
            "1  -0.121178 -0.092741 -0.084480 -0.054827  0.000210 -0.201035  \n",
            "2  -0.219605 -0.194988 -0.139315 -0.086013 -0.007345 -0.336503  \n",
            "3  -0.271240 -0.245196 -0.173423 -0.110116 -0.017835 -0.436550  \n",
            "4  -0.320260 -0.279496 -0.215631 -0.127605 -0.016286 -0.502310  \n",
            "5  -0.434345 -0.390972 -0.291995 -0.181792 -0.007209 -0.463666  \n",
            "6  -0.526650 -0.460166 -0.358755 -0.217649 -0.008078 -0.418010  \n",
            "7  -0.604254 -0.526140 -0.410641 -0.244538 -0.017221 -0.244951  \n",
            "8  -0.641575 -0.561005 -0.429375 -0.265949  0.004441 -0.002829  \n",
            "9  -0.533508 -0.474153 -0.366523 -0.195432  0.024662  0.261944  \n",
            "10 -0.316340 -0.290169 -0.245658 -0.120951  0.012075  0.478270  \n",
            "11 -0.003388 -0.016383 -0.006752 -0.012234  0.013067  0.536996  \n",
            "12  0.314689  0.278070  0.210337  0.125447  0.049142  0.503435  \n",
            "13  0.524681  0.457578  0.348963  0.205312  0.005636  0.356781  \n",
            "14  0.668598  0.586932  0.444366  0.266127  0.004913  0.208437  \n",
            "15  0.661608  0.583048  0.447444  0.268479  0.008337  0.126173  \n",
            "16  1.000000  0.565715  0.444275  0.252878 -0.000782  0.006811  \n",
            "17  0.565715  1.000000  0.381739  0.229832  0.010065  0.019778  \n",
            "18  0.444275  0.381739  1.000000  0.170025 -0.002183  0.011884  \n",
            "19  0.252878  0.229832  0.170025  1.000000 -0.016382  0.011912  \n",
            "20 -0.000782  0.010065 -0.002183 -0.016382  1.000000  0.013953  \n",
            "21  0.006811  0.019778  0.011884  0.011912  0.013953  1.000000  \n",
            "\n",
            "[22 rows x 22 columns]\n",
            "time: 64.2 ms (started: 2024-01-07 15:44:23 +00:00)\n"
          ]
        }
      ]
    },
    {
      "cell_type": "markdown",
      "source": [
        "# **Dataset split**\n",
        "\n",
        "We use train_test_split() to split the dataset into training set and test set with the ratio of 80% and 20%."
      ],
      "metadata": {
        "id": "kAxHNCYpynWe"
      }
    },
    {
      "cell_type": "code",
      "source": [
        "y_column_name = df.columns[21]\n",
        "y = df[y_column_name]\n",
        "df.drop(columns=[y_column_name], inplace=True)\n",
        "x_train,x_test,y_train,y_test = train_test_split(df,y,test_size=0.2,random_state=42)"
      ],
      "metadata": {
        "id": "Es2-PrlSuoP1",
        "colab": {
          "base_uri": "https://localhost:8080/"
        },
        "outputId": "8409e44c-b704-4b83-8ebe-2d9400be0940"
      },
      "execution_count": 127,
      "outputs": [
        {
          "output_type": "stream",
          "name": "stdout",
          "text": [
            "time: 11.9 ms (started: 2024-01-07 15:44:23 +00:00)\n"
          ]
        }
      ]
    },
    {
      "cell_type": "markdown",
      "source": [
        "# **Implementation of KNeighborsClassifier**\n",
        "\n",
        "Classifier implementing the k-nearest neighbors\n",
        "\\\n",
        "\\\n",
        "Parameters used:\\\n",
        "n_neighbors int, default=5 \\\n",
        "Number of neighbors to use by default for kneighbors queries.\n",
        "\n"
      ],
      "metadata": {
        "id": "35uER9sSy8cR"
      }
    },
    {
      "cell_type": "code",
      "source": [
        "knn=KNeighborsClassifier(n_neighbors=5)\n",
        "knn.fit(x_train,y_train)"
      ],
      "metadata": {
        "colab": {
          "base_uri": "https://localhost:8080/",
          "height": 92
        },
        "id": "jw_z8ZPguvJy",
        "outputId": "ea0457d3-3425-4712-8799-ab03e0f5b1c1"
      },
      "execution_count": 128,
      "outputs": [
        {
          "output_type": "execute_result",
          "data": {
            "text/plain": [
              "KNeighborsClassifier()"
            ],
            "text/html": [
              "<style>#sk-container-id-17 {color: black;background-color: white;}#sk-container-id-17 pre{padding: 0;}#sk-container-id-17 div.sk-toggleable {background-color: white;}#sk-container-id-17 label.sk-toggleable__label {cursor: pointer;display: block;width: 100%;margin-bottom: 0;padding: 0.3em;box-sizing: border-box;text-align: center;}#sk-container-id-17 label.sk-toggleable__label-arrow:before {content: \"▸\";float: left;margin-right: 0.25em;color: #696969;}#sk-container-id-17 label.sk-toggleable__label-arrow:hover:before {color: black;}#sk-container-id-17 div.sk-estimator:hover label.sk-toggleable__label-arrow:before {color: black;}#sk-container-id-17 div.sk-toggleable__content {max-height: 0;max-width: 0;overflow: hidden;text-align: left;background-color: #f0f8ff;}#sk-container-id-17 div.sk-toggleable__content pre {margin: 0.2em;color: black;border-radius: 0.25em;background-color: #f0f8ff;}#sk-container-id-17 input.sk-toggleable__control:checked~div.sk-toggleable__content {max-height: 200px;max-width: 100%;overflow: auto;}#sk-container-id-17 input.sk-toggleable__control:checked~label.sk-toggleable__label-arrow:before {content: \"▾\";}#sk-container-id-17 div.sk-estimator input.sk-toggleable__control:checked~label.sk-toggleable__label {background-color: #d4ebff;}#sk-container-id-17 div.sk-label input.sk-toggleable__control:checked~label.sk-toggleable__label {background-color: #d4ebff;}#sk-container-id-17 input.sk-hidden--visually {border: 0;clip: rect(1px 1px 1px 1px);clip: rect(1px, 1px, 1px, 1px);height: 1px;margin: -1px;overflow: hidden;padding: 0;position: absolute;width: 1px;}#sk-container-id-17 div.sk-estimator {font-family: monospace;background-color: #f0f8ff;border: 1px dotted black;border-radius: 0.25em;box-sizing: border-box;margin-bottom: 0.5em;}#sk-container-id-17 div.sk-estimator:hover {background-color: #d4ebff;}#sk-container-id-17 div.sk-parallel-item::after {content: \"\";width: 100%;border-bottom: 1px solid gray;flex-grow: 1;}#sk-container-id-17 div.sk-label:hover label.sk-toggleable__label {background-color: #d4ebff;}#sk-container-id-17 div.sk-serial::before {content: \"\";position: absolute;border-left: 1px solid gray;box-sizing: border-box;top: 0;bottom: 0;left: 50%;z-index: 0;}#sk-container-id-17 div.sk-serial {display: flex;flex-direction: column;align-items: center;background-color: white;padding-right: 0.2em;padding-left: 0.2em;position: relative;}#sk-container-id-17 div.sk-item {position: relative;z-index: 1;}#sk-container-id-17 div.sk-parallel {display: flex;align-items: stretch;justify-content: center;background-color: white;position: relative;}#sk-container-id-17 div.sk-item::before, #sk-container-id-17 div.sk-parallel-item::before {content: \"\";position: absolute;border-left: 1px solid gray;box-sizing: border-box;top: 0;bottom: 0;left: 50%;z-index: -1;}#sk-container-id-17 div.sk-parallel-item {display: flex;flex-direction: column;z-index: 1;position: relative;background-color: white;}#sk-container-id-17 div.sk-parallel-item:first-child::after {align-self: flex-end;width: 50%;}#sk-container-id-17 div.sk-parallel-item:last-child::after {align-self: flex-start;width: 50%;}#sk-container-id-17 div.sk-parallel-item:only-child::after {width: 0;}#sk-container-id-17 div.sk-dashed-wrapped {border: 1px dashed gray;margin: 0 0.4em 0.5em 0.4em;box-sizing: border-box;padding-bottom: 0.4em;background-color: white;}#sk-container-id-17 div.sk-label label {font-family: monospace;font-weight: bold;display: inline-block;line-height: 1.2em;}#sk-container-id-17 div.sk-label-container {text-align: center;}#sk-container-id-17 div.sk-container {/* jupyter's `normalize.less` sets `[hidden] { display: none; }` but bootstrap.min.css set `[hidden] { display: none !important; }` so we also need the `!important` here to be able to override the default hidden behavior on the sphinx rendered scikit-learn.org. See: https://github.com/scikit-learn/scikit-learn/issues/21755 */display: inline-block !important;position: relative;}#sk-container-id-17 div.sk-text-repr-fallback {display: none;}</style><div id=\"sk-container-id-17\" class=\"sk-top-container\"><div class=\"sk-text-repr-fallback\"><pre>KNeighborsClassifier()</pre><b>In a Jupyter environment, please rerun this cell to show the HTML representation or trust the notebook. <br />On GitHub, the HTML representation is unable to render, please try loading this page with nbviewer.org.</b></div><div class=\"sk-container\" hidden><div class=\"sk-item\"><div class=\"sk-estimator sk-toggleable\"><input class=\"sk-toggleable__control sk-hidden--visually\" id=\"sk-estimator-id-17\" type=\"checkbox\" checked><label for=\"sk-estimator-id-17\" class=\"sk-toggleable__label sk-toggleable__label-arrow\">KNeighborsClassifier</label><div class=\"sk-toggleable__content\"><pre>KNeighborsClassifier()</pre></div></div></div></div></div>"
            ]
          },
          "metadata": {},
          "execution_count": 128
        },
        {
          "output_type": "stream",
          "name": "stdout",
          "text": [
            "time: 12.9 ms (started: 2024-01-07 15:44:23 +00:00)\n"
          ]
        }
      ]
    },
    {
      "cell_type": "markdown",
      "source": [
        "# **Calulating Accuracy**\n",
        "We predict x_test and check the accuracy with the y_test \\\n",
        "\n",
        "\n",
        "accuracy_score() :- \\\n",
        "\n",
        "Accuracy classification score.This function computes subset accuracy: the set of labels predicted for a sample must exactly match the corresponding set of labels in y_true."
      ],
      "metadata": {
        "id": "zgLkN3ZazlIT"
      }
    },
    {
      "cell_type": "code",
      "source": [
        "accuracy_score(y_test,knn.predict(x_test))"
      ],
      "metadata": {
        "colab": {
          "base_uri": "https://localhost:8080/"
        },
        "id": "mJtWGRI1uznS",
        "outputId": "c049b003-cc43-493b-acf1-f90ced2a8a11"
      },
      "execution_count": 129,
      "outputs": [
        {
          "output_type": "execute_result",
          "data": {
            "text/plain": [
              "0.832"
            ]
          },
          "metadata": {},
          "execution_count": 129
        },
        {
          "output_type": "stream",
          "name": "stdout",
          "text": [
            "time: 241 ms (started: 2024-01-07 15:44:23 +00:00)\n"
          ]
        }
      ]
    },
    {
      "cell_type": "markdown",
      "source": [
        "# **Tuning of K**\n",
        "\n",
        "Performing cross-validation with different values of k for the k-nearest neighbors classifier. This is a common approach to find the optimal value of k.\n",
        "\n",
        "Here, we get the optimal value of k as 58 with the accuracy of 85%"
      ],
      "metadata": {
        "id": "9e_qUTMN0LMQ"
      }
    },
    {
      "cell_type": "code",
      "source": [
        "k=list(range(1,100))\n",
        "accuracies_knn=[]\n",
        "for i in k:\n",
        "    c_v=cross_val_score(KNeighborsClassifier(n_neighbors=i),X=x_train,y=y_train,cv=5,scoring=\"accuracy\")\n",
        "    accuracies_knn.append(np.mean(c_v))"
      ],
      "metadata": {
        "id": "iEdpDmXQvBiF",
        "colab": {
          "base_uri": "https://localhost:8080/"
        },
        "outputId": "fbf70d03-9dcc-4389-b0a5-af000cca308a"
      },
      "execution_count": 130,
      "outputs": [
        {
          "output_type": "stream",
          "name": "stdout",
          "text": [
            "time: 1min 17s (started: 2024-01-07 15:44:24 +00:00)\n"
          ]
        }
      ]
    },
    {
      "cell_type": "code",
      "source": [
        "print(\"Best k = \",np.argmax(accuracies_knn) + 1)\n",
        "print(max(accuracies_knn))"
      ],
      "metadata": {
        "colab": {
          "base_uri": "https://localhost:8080/"
        },
        "id": "k0LFtYhtRqDo",
        "outputId": "79304a59-dfc5-49fc-db48-c50fda3a29e3"
      },
      "execution_count": 131,
      "outputs": [
        {
          "output_type": "stream",
          "name": "stdout",
          "text": [
            "Best k =  58\n",
            "0.8560000000000001\n",
            "time: 3.19 ms (started: 2024-01-07 15:45:41 +00:00)\n"
          ]
        }
      ]
    },
    {
      "cell_type": "code",
      "source": [
        "plt.figure(figsize=(10,5))\n",
        "plt.scatter(x=list(range(1,100)),y=accuracies_knn)\n",
        "plt.xlabel('K-Neighbors')\n",
        "plt.ylabel(\"Accuracy\")\n",
        "plt.axhline(0.865,linestyle='--',color='r',label= 'Bayesian Accuracy')\n",
        "plt.axvline(np.argmax(accuracies_knn) + 1,linestyle='--',color='g',label= 'Best K for Knn')\n",
        "plt.legend()\n",
        "plt.title(\"Accuracy on Training Dataset for different values of k\")\n",
        "plt.savefig('knn_accuracy.png')"
      ],
      "metadata": {
        "colab": {
          "base_uri": "https://localhost:8080/",
          "height": 504
        },
        "id": "NuYt7_xNvEqz",
        "outputId": "c4a5e15e-d109-4530-dbe1-ba27f0369f18"
      },
      "execution_count": 132,
      "outputs": [
        {
          "output_type": "display_data",
          "data": {
            "text/plain": [
              "<Figure size 1000x500 with 1 Axes>"
            ],
            "image/png": "[encoded data removed]"
          },
          "metadata": {}
        },
        {
          "output_type": "stream",
          "name": "stdout",
          "text": [
            "time: 557 ms (started: 2024-01-07 15:45:41 +00:00)\n"
          ]
        }
      ]
    },
    {
      "cell_type": "code",
      "source": [
        "y_train = np.array(y_train)\n",
        "y_test = np.array(y_test)"
      ],
      "metadata": {
        "id": "zsK9HNwAc0X1",
        "colab": {
          "base_uri": "https://localhost:8080/"
        },
        "outputId": "2eb216a1-4fad-4773-9140-a0cce17b544a"
      },
      "execution_count": 133,
      "outputs": [
        {
          "output_type": "stream",
          "name": "stdout",
          "text": [
            "time: 724 µs (started: 2024-01-07 15:45:42 +00:00)\n"
          ]
        }
      ]
    },
    {
      "cell_type": "markdown",
      "source": [
        "# **Methods to speed up the calculations**\n",
        "\n",
        "\n",
        "\n",
        "1.   KDTree\n",
        "2.   BallTree\n",
        "\n",
        "We get the accuracy of 79% in both the methods"
      ],
      "metadata": {
        "id": "333TrdEd0m_l"
      }
    },
    {
      "cell_type": "code",
      "source": [
        "tree = KDTree(x_train, leaf_size=2)\n",
        "distances, indices = tree.query(x_test, k=1)\n",
        "# Extract the distance to the second nearest neighbor\n",
        "second_nearest_distances = distances\n",
        "#print(indices)\n",
        "predicted = [y_train[h] for h in indices]\n",
        "print(\"Accuracy for KDTree : \",accuracy_score(y_test,predicted))"
      ],
      "metadata": {
        "colab": {
          "base_uri": "https://localhost:8080/"
        },
        "id": "v4unDne-VOkA",
        "outputId": "d7252e46-0042-471e-ca5a-83a291205add"
      },
      "execution_count": 134,
      "outputs": [
        {
          "output_type": "stream",
          "name": "stdout",
          "text": [
            "Accuracy for KDTree :  0.79\n",
            "time: 909 ms (started: 2024-01-07 15:45:42 +00:00)\n"
          ]
        }
      ]
    },
    {
      "cell_type": "code",
      "source": [
        "balltree = BallTree(x_train, leaf_size=2,metric='euclidean')\n",
        "ball_distances, ball_indices = balltree.query(x_test, k=1)\n",
        "ball_second_nearest_distances = ball_distances\n",
        "ball_predicted = [y_train[h] for h in ball_indices]\n",
        "print(\"Accuracy for BallTree : \",accuracy_score(y_test,ball_predicted))"
      ],
      "metadata": {
        "colab": {
          "base_uri": "https://localhost:8080/"
        },
        "id": "jawA8TkQeynh",
        "outputId": "914e07f6-e4bb-4bfe-e351-7703e066cca7"
      },
      "execution_count": 135,
      "outputs": [
        {
          "output_type": "stream",
          "name": "stdout",
          "text": [
            "Accuracy for BallTree :  0.79\n",
            "time: 278 ms (started: 2024-01-07 15:45:42 +00:00)\n"
          ]
        }
      ]
    },
    {
      "cell_type": "markdown",
      "source": [
        "# **Data reduction technique**\n",
        "\n",
        "The aim of CNN is to produce a subset of dataset that can correctly classify all the data points in the original dataset.We also compare the accuracy of Knn and Cnn.\n",
        "\n",
        "Best K for CNN : 20\n"
      ],
      "metadata": {
        "id": "3p1IxdHf1PjG"
      }
    },
    {
      "cell_type": "code",
      "source": [
        "cnn=CondensedNearestNeighbour(n_seeds_S=4,n_neighbors=1,random_state=42)\n",
        "x_cnn,y_cnn=cnn.fit_resample(x_train,y_train)\n",
        "x_cnn=pd.DataFrame(x_cnn)\n",
        "y_cnn=pd.DataFrame(y_cnn)\n",
        "knn_cnn=KNeighborsClassifier(n_neighbors=5)\n",
        "knn_cnn.fit(x_cnn,y_cnn)"
      ],
      "metadata": {
        "colab": {
          "base_uri": "https://localhost:8080/",
          "height": 146
        },
        "id": "XLq-uF3epTQ4",
        "outputId": "2ec5e62c-48a1-40f0-d783-9fd7ae932b20"
      },
      "execution_count": 136,
      "outputs": [
        {
          "output_type": "stream",
          "name": "stderr",
          "text": [
            "/usr/local/lib/python3.10/dist-packages/sklearn/neighbors/_classification.py:215: DataConversionWarning: A column-vector y was passed when a 1d array was expected. Please change the shape of y to (n_samples,), for example using ravel().\n",
            "  return self._fit(X, y)\n"
          ]
        },
        {
          "output_type": "execute_result",
          "data": {
            "text/plain": [
              "KNeighborsClassifier()"
            ],
            "text/html": [
              "<style>#sk-container-id-18 {color: black;background-color: white;}#sk-container-id-18 pre{padding: 0;}#sk-container-id-18 div.sk-toggleable {background-color: white;}#sk-container-id-18 label.sk-toggleable__label {cursor: pointer;display: block;width: 100%;margin-bottom: 0;padding: 0.3em;box-sizing: border-box;text-align: center;}#sk-container-id-18 label.sk-toggleable__label-arrow:before {content: \"▸\";float: left;margin-right: 0.25em;color: #696969;}#sk-container-id-18 label.sk-toggleable__label-arrow:hover:before {color: black;}#sk-container-id-18 div.sk-estimator:hover label.sk-toggleable__label-arrow:before {color: black;}#sk-container-id-18 div.sk-toggleable__content {max-height: 0;max-width: 0;overflow: hidden;text-align: left;background-color: #f0f8ff;}#sk-container-id-18 div.sk-toggleable__content pre {margin: 0.2em;color: black;border-radius: 0.25em;background-color: #f0f8ff;}#sk-container-id-18 input.sk-toggleable__control:checked~div.sk-toggleable__content {max-height: 200px;max-width: 100%;overflow: auto;}#sk-container-id-18 input.sk-toggleable__control:checked~label.sk-toggleable__label-arrow:before {content: \"▾\";}#sk-container-id-18 div.sk-estimator input.sk-toggleable__control:checked~label.sk-toggleable__label {background-color: #d4ebff;}#sk-container-id-18 div.sk-label input.sk-toggleable__control:checked~label.sk-toggleable__label {background-color: #d4ebff;}#sk-container-id-18 input.sk-hidden--visually {border: 0;clip: rect(1px 1px 1px 1px);clip: rect(1px, 1px, 1px, 1px);height: 1px;margin: -1px;overflow: hidden;padding: 0;position: absolute;width: 1px;}#sk-container-id-18 div.sk-estimator {font-family: monospace;background-color: #f0f8ff;border: 1px dotted black;border-radius: 0.25em;box-sizing: border-box;margin-bottom: 0.5em;}#sk-container-id-18 div.sk-estimator:hover {background-color: #d4ebff;}#sk-container-id-18 div.sk-parallel-item::after {content: \"\";width: 100%;border-bottom: 1px solid gray;flex-grow: 1;}#sk-container-id-18 div.sk-label:hover label.sk-toggleable__label {background-color: #d4ebff;}#sk-container-id-18 div.sk-serial::before {content: \"\";position: absolute;border-left: 1px solid gray;box-sizing: border-box;top: 0;bottom: 0;left: 50%;z-index: 0;}#sk-container-id-18 div.sk-serial {display: flex;flex-direction: column;align-items: center;background-color: white;padding-right: 0.2em;padding-left: 0.2em;position: relative;}#sk-container-id-18 div.sk-item {position: relative;z-index: 1;}#sk-container-id-18 div.sk-parallel {display: flex;align-items: stretch;justify-content: center;background-color: white;position: relative;}#sk-container-id-18 div.sk-item::before, #sk-container-id-18 div.sk-parallel-item::before {content: \"\";position: absolute;border-left: 1px solid gray;box-sizing: border-box;top: 0;bottom: 0;left: 50%;z-index: -1;}#sk-container-id-18 div.sk-parallel-item {display: flex;flex-direction: column;z-index: 1;position: relative;background-color: white;}#sk-container-id-18 div.sk-parallel-item:first-child::after {align-self: flex-end;width: 50%;}#sk-container-id-18 div.sk-parallel-item:last-child::after {align-self: flex-start;width: 50%;}#sk-container-id-18 div.sk-parallel-item:only-child::after {width: 0;}#sk-container-id-18 div.sk-dashed-wrapped {border: 1px dashed gray;margin: 0 0.4em 0.5em 0.4em;box-sizing: border-box;padding-bottom: 0.4em;background-color: white;}#sk-container-id-18 div.sk-label label {font-family: monospace;font-weight: bold;display: inline-block;line-height: 1.2em;}#sk-container-id-18 div.sk-label-container {text-align: center;}#sk-container-id-18 div.sk-container {/* jupyter's `normalize.less` sets `[hidden] { display: none; }` but bootstrap.min.css set `[hidden] { display: none !important; }` so we also need the `!important` here to be able to override the default hidden behavior on the sphinx rendered scikit-learn.org. See: https://github.com/scikit-learn/scikit-learn/issues/21755 */display: inline-block !important;position: relative;}#sk-container-id-18 div.sk-text-repr-fallback {display: none;}</style><div id=\"sk-container-id-18\" class=\"sk-top-container\"><div class=\"sk-text-repr-fallback\"><pre>KNeighborsClassifier()</pre><b>In a Jupyter environment, please rerun this cell to show the HTML representation or trust the notebook. <br />On GitHub, the HTML representation is unable to render, please try loading this page with nbviewer.org.</b></div><div class=\"sk-container\" hidden><div class=\"sk-item\"><div class=\"sk-estimator sk-toggleable\"><input class=\"sk-toggleable__control sk-hidden--visually\" id=\"sk-estimator-id-18\" type=\"checkbox\" checked><label for=\"sk-estimator-id-18\" class=\"sk-toggleable__label sk-toggleable__label-arrow\">KNeighborsClassifier</label><div class=\"sk-toggleable__content\"><pre>KNeighborsClassifier()</pre></div></div></div></div></div>"
            ]
          },
          "metadata": {},
          "execution_count": 136
        },
        {
          "output_type": "stream",
          "name": "stdout",
          "text": [
            "time: 58 s (started: 2024-01-07 15:45:43 +00:00)\n"
          ]
        }
      ]
    },
    {
      "cell_type": "code",
      "source": [
        "k=list(range(1,100)) # List of all Neighbors\n",
        "accuracies_cnn=[]\n",
        "# We are checking for every k the cross-validation accuracy.\n",
        "# Calculating Accuracy using Cross-Validation.\n",
        "for i in k:\n",
        "    c_v=cross_val_score(KNeighborsClassifier(n_neighbors=i),X=x_cnn.values,y=y_cnn.values.reshape(-1),cv=5,scoring=\"accuracy\")\n",
        "    accuracies_cnn.append(np.mean(c_v))\n",
        "\n",
        "\n",
        "plt.figure(figsize=(10,5))\n",
        "plt.scatter(x=list(range(1,100)),y=accuracies_cnn)\n",
        "plt.xlabel('Nearest Neighbors')\n",
        "plt.ylabel(\"Accuracy\")\n",
        "plt.axhline(0.865,linestyle='--',color='r',label= 'Bayesian Accuracy')\n",
        "plt.axvline((np.argmax(accuracies_cnn))+1,linestyle='--',color='k',label= 'Best K for CNN')\n",
        "\n",
        "plt.legend()\n",
        "plt.title(\"Accuracy on Training Dataset for various k using CNN\")\n",
        "plt.savefig('cnn_accuracy.png')"
      ],
      "metadata": {
        "colab": {
          "base_uri": "https://localhost:8080/",
          "height": 504
        },
        "id": "hjVmGMC2ptTc",
        "outputId": "07805bbb-ef35-42dc-99cb-d91c5a304eaa"
      },
      "execution_count": 137,
      "outputs": [
        {
          "output_type": "display_data",
          "data": {
            "text/plain": [
              "<Figure size 1000x500 with 1 Axes>"
            ],
            "image/png": "[encoded data removed]"
          },
          "metadata": {}
        },
        {
          "output_type": "stream",
          "name": "stdout",
          "text": [
            "time: 24.7 s (started: 2024-01-07 15:46:41 +00:00)\n"
          ]
        }
      ]
    },
    {
      "cell_type": "code",
      "source": [
        "print(max(accuracies_cnn))"
      ],
      "metadata": {
        "colab": {
          "base_uri": "https://localhost:8080/"
        },
        "id": "yEhurEUvft7R",
        "outputId": "470f90a7-3dd3-4e94-a6a3-17138b8c2860"
      },
      "execution_count": 138,
      "outputs": [
        {
          "output_type": "stream",
          "name": "stdout",
          "text": [
            "0.8040087074991116\n",
            "time: 5.08 ms (started: 2024-01-07 15:47:06 +00:00)\n"
          ]
        }
      ]
    },
    {
      "cell_type": "code",
      "source": [
        "print(\"Best K for CNN :\", (np.argmax(accuracies_cnn))+1)"
      ],
      "metadata": {
        "colab": {
          "base_uri": "https://localhost:8080/"
        },
        "id": "JuXjywTVqoaX",
        "outputId": "296f503e-6d0a-404f-cf8c-1c5e7143ddc8"
      },
      "execution_count": 139,
      "outputs": [
        {
          "output_type": "stream",
          "name": "stdout",
          "text": [
            "Best K for CNN : 20\n",
            "time: 2.09 ms (started: 2024-01-07 15:47:06 +00:00)\n"
          ]
        }
      ]
    },
    {
      "cell_type": "code",
      "source": [
        "plt.figure(figsize=(10,5))\n",
        "plt.scatter(x=list(range(1,100)),y=accuracies_knn,label='Accuracy before')\n",
        "plt.scatter(x=list(range(1,100)),y=accuracies_cnn,label='Accuracy after data reduction using CNN')\n",
        "plt.axhline(0.865,linestyle='--',color='r',label= 'Bayesian Accuracy')\n",
        "plt.axvline((np.argmax(accuracies_knn))+1,linestyle='--',color='g',label= 'Best K for Knn')\n",
        "plt.axvline((np.argmax(accuracies_cnn))+1,linestyle='--',color='k',label= 'Best K for Cnn')\n",
        "plt.xlabel('Number of Neighbors')\n",
        "plt.ylabel(\"Value\")\n",
        "plt.title(\"Accuracy before and after data reduction for different values of k\")\n",
        "plt.legend()\n",
        "plt.savefig('knn_vs_cnn_accuracy.png')"
      ],
      "metadata": {
        "colab": {
          "base_uri": "https://localhost:8080/",
          "height": 504
        },
        "id": "WeWlBAYHu2qc",
        "outputId": "5f950f31-1026-4567-8e48-5c14c5c09fe1"
      },
      "execution_count": 140,
      "outputs": [
        {
          "output_type": "display_data",
          "data": {
            "text/plain": [
              "<Figure size 1000x500 with 1 Axes>"
            ],
            "image/png": "[encoded data removed]"
          },
          "metadata": {}
        },
        {
          "output_type": "stream",
          "name": "stdout",
          "text": [
            "time: 571 ms (started: 2024-01-07 15:47:06 +00:00)\n"
          ]
        }
      ]
    },
    {
      "cell_type": "markdown",
      "source": [
        "# **Dimentionality reduction**\n",
        "\n",
        "We performing feature scaling using StandardScaler and dimensionality reduction using Principal Component Analysis (PCA) on a DataFrame. We initialize a PCA object with the desired number of components (in this case, 3). Now the shape of the dataset is 5000 x 3.\n",
        "\n",
        "The Preferred K value after dimentionality reduction is 82."
      ],
      "metadata": {
        "id": "q5ZO7lDp118Z"
      }
    },
    {
      "cell_type": "code",
      "source": [
        "df1=pd.DataFrame(df)\n",
        "scaling=StandardScaler()\n",
        "scaling.fit(df1)\n",
        "Scaled_data=scaling.transform(df1)\n",
        "principal=PCA(n_components=3)\n",
        "principal.fit(Scaled_data)\n",
        "x=principal.transform(Scaled_data)\n",
        "print(x.shape)"
      ],
      "metadata": {
        "colab": {
          "base_uri": "https://localhost:8080/"
        },
        "id": "RocmugPupB48",
        "outputId": "d28beb1d-3b05-4e97-ed65-ce8617b962ae"
      },
      "execution_count": 141,
      "outputs": [
        {
          "output_type": "stream",
          "name": "stdout",
          "text": [
            "(5000, 3)\n",
            "time: 41.6 ms (started: 2024-01-07 15:47:06 +00:00)\n"
          ]
        }
      ]
    },
    {
      "cell_type": "code",
      "source": [
        "x_train,x_test,y_train,y_test = train_test_split(x,y,test_size=0.2,random_state=42)"
      ],
      "metadata": {
        "id": "z-7Y2g-sqIeT",
        "colab": {
          "base_uri": "https://localhost:8080/"
        },
        "outputId": "7de32cb7-98a5-4829-8b3f-d85e462855a0"
      },
      "execution_count": 142,
      "outputs": [
        {
          "output_type": "stream",
          "name": "stdout",
          "text": [
            "time: 2.86 ms (started: 2024-01-07 15:47:06 +00:00)\n"
          ]
        }
      ]
    },
    {
      "cell_type": "code",
      "source": [
        "knn=KNeighborsClassifier(n_neighbors=70)\n",
        "knn.fit(x_train,y_train)"
      ],
      "metadata": {
        "colab": {
          "base_uri": "https://localhost:8080/",
          "height": 92
        },
        "id": "e72B11qgqRs1",
        "outputId": "fcada48c-368f-44fb-f9db-bee03af9d2e4"
      },
      "execution_count": 143,
      "outputs": [
        {
          "output_type": "execute_result",
          "data": {
            "text/plain": [
              "KNeighborsClassifier(n_neighbors=70)"
            ],
            "text/html": [
              "<style>#sk-container-id-19 {color: black;background-color: white;}#sk-container-id-19 pre{padding: 0;}#sk-container-id-19 div.sk-toggleable {background-color: white;}#sk-container-id-19 label.sk-toggleable__label {cursor: pointer;display: block;width: 100%;margin-bottom: 0;padding: 0.3em;box-sizing: border-box;text-align: center;}#sk-container-id-19 label.sk-toggleable__label-arrow:before {content: \"▸\";float: left;margin-right: 0.25em;color: #696969;}#sk-container-id-19 label.sk-toggleable__label-arrow:hover:before {color: black;}#sk-container-id-19 div.sk-estimator:hover label.sk-toggleable__label-arrow:before {color: black;}#sk-container-id-19 div.sk-toggleable__content {max-height: 0;max-width: 0;overflow: hidden;text-align: left;background-color: #f0f8ff;}#sk-container-id-19 div.sk-toggleable__content pre {margin: 0.2em;color: black;border-radius: 0.25em;background-color: #f0f8ff;}#sk-container-id-19 input.sk-toggleable__control:checked~div.sk-toggleable__content {max-height: 200px;max-width: 100%;overflow: auto;}#sk-container-id-19 input.sk-toggleable__control:checked~label.sk-toggleable__label-arrow:before {content: \"▾\";}#sk-container-id-19 div.sk-estimator input.sk-toggleable__control:checked~label.sk-toggleable__label {background-color: #d4ebff;}#sk-container-id-19 div.sk-label input.sk-toggleable__control:checked~label.sk-toggleable__label {background-color: #d4ebff;}#sk-container-id-19 input.sk-hidden--visually {border: 0;clip: rect(1px 1px 1px 1px);clip: rect(1px, 1px, 1px, 1px);height: 1px;margin: -1px;overflow: hidden;padding: 0;position: absolute;width: 1px;}#sk-container-id-19 div.sk-estimator {font-family: monospace;background-color: #f0f8ff;border: 1px dotted black;border-radius: 0.25em;box-sizing: border-box;margin-bottom: 0.5em;}#sk-container-id-19 div.sk-estimator:hover {background-color: #d4ebff;}#sk-container-id-19 div.sk-parallel-item::after {content: \"\";width: 100%;border-bottom: 1px solid gray;flex-grow: 1;}#sk-container-id-19 div.sk-label:hover label.sk-toggleable__label {background-color: #d4ebff;}#sk-container-id-19 div.sk-serial::before {content: \"\";position: absolute;border-left: 1px solid gray;box-sizing: border-box;top: 0;bottom: 0;left: 50%;z-index: 0;}#sk-container-id-19 div.sk-serial {display: flex;flex-direction: column;align-items: center;background-color: white;padding-right: 0.2em;padding-left: 0.2em;position: relative;}#sk-container-id-19 div.sk-item {position: relative;z-index: 1;}#sk-container-id-19 div.sk-parallel {display: flex;align-items: stretch;justify-content: center;background-color: white;position: relative;}#sk-container-id-19 div.sk-item::before, #sk-container-id-19 div.sk-parallel-item::before {content: \"\";position: absolute;border-left: 1px solid gray;box-sizing: border-box;top: 0;bottom: 0;left: 50%;z-index: -1;}#sk-container-id-19 div.sk-parallel-item {display: flex;flex-direction: column;z-index: 1;position: relative;background-color: white;}#sk-container-id-19 div.sk-parallel-item:first-child::after {align-self: flex-end;width: 50%;}#sk-container-id-19 div.sk-parallel-item:last-child::after {align-self: flex-start;width: 50%;}#sk-container-id-19 div.sk-parallel-item:only-child::after {width: 0;}#sk-container-id-19 div.sk-dashed-wrapped {border: 1px dashed gray;margin: 0 0.4em 0.5em 0.4em;box-sizing: border-box;padding-bottom: 0.4em;background-color: white;}#sk-container-id-19 div.sk-label label {font-family: monospace;font-weight: bold;display: inline-block;line-height: 1.2em;}#sk-container-id-19 div.sk-label-container {text-align: center;}#sk-container-id-19 div.sk-container {/* jupyter's `normalize.less` sets `[hidden] { display: none; }` but bootstrap.min.css set `[hidden] { display: none !important; }` so we also need the `!important` here to be able to override the default hidden behavior on the sphinx rendered scikit-learn.org. See: https://github.com/scikit-learn/scikit-learn/issues/21755 */display: inline-block !important;position: relative;}#sk-container-id-19 div.sk-text-repr-fallback {display: none;}</style><div id=\"sk-container-id-19\" class=\"sk-top-container\"><div class=\"sk-text-repr-fallback\"><pre>KNeighborsClassifier(n_neighbors=70)</pre><b>In a Jupyter environment, please rerun this cell to show the HTML representation or trust the notebook. <br />On GitHub, the HTML representation is unable to render, please try loading this page with nbviewer.org.</b></div><div class=\"sk-container\" hidden><div class=\"sk-item\"><div class=\"sk-estimator sk-toggleable\"><input class=\"sk-toggleable__control sk-hidden--visually\" id=\"sk-estimator-id-19\" type=\"checkbox\" checked><label for=\"sk-estimator-id-19\" class=\"sk-toggleable__label sk-toggleable__label-arrow\">KNeighborsClassifier</label><div class=\"sk-toggleable__content\"><pre>KNeighborsClassifier(n_neighbors=70)</pre></div></div></div></div></div>"
            ]
          },
          "metadata": {},
          "execution_count": 143
        },
        {
          "output_type": "stream",
          "name": "stdout",
          "text": [
            "time: 20.1 ms (started: 2024-01-07 15:47:06 +00:00)\n"
          ]
        }
      ]
    },
    {
      "cell_type": "code",
      "source": [
        "k=list(range(1,100))\n",
        "accuracies_pca=[]\n",
        "variances=[]\n",
        "for i in k:\n",
        "    c_v=cross_val_score(KNeighborsClassifier(n_neighbors=i),X=x_train,y=y_train,cv=5,scoring=\"accuracy\")\n",
        "    accuracies_pca.append(np.mean(c_v))"
      ],
      "metadata": {
        "id": "JrJtLCCxqg3N",
        "colab": {
          "base_uri": "https://localhost:8080/"
        },
        "outputId": "df228b09-46bc-4aae-c00a-2854cbd76e2e"
      },
      "execution_count": 144,
      "outputs": [
        {
          "output_type": "stream",
          "name": "stdout",
          "text": [
            "time: 31.7 s (started: 2024-01-07 15:47:06 +00:00)\n"
          ]
        }
      ]
    },
    {
      "cell_type": "code",
      "source": [
        "print(np.argmax(accuracies_pca)+1)"
      ],
      "metadata": {
        "colab": {
          "base_uri": "https://localhost:8080/"
        },
        "id": "0FN5uGPTqmE_",
        "outputId": "5d020c40-28b8-4251-f31c-8749db573b9b"
      },
      "execution_count": 145,
      "outputs": [
        {
          "output_type": "stream",
          "name": "stdout",
          "text": [
            "60\n",
            "time: 2.19 ms (started: 2024-01-07 15:47:38 +00:00)\n"
          ]
        }
      ]
    },
    {
      "cell_type": "code",
      "source": [
        "plt.figure(figsize=(10,5))\n",
        "plt.scatter(x=list(range(1,100)),y=accuracies_pca)\n",
        "plt.xlabel('K-Neighbors')\n",
        "plt.ylabel(\"Accuracy\")\n",
        "plt.axhline(0.865,linestyle='--',color='r',label= 'Bayesian Accuracy')\n",
        "plt.axvline((np.argmax(accuracies_pca))+1,linestyle='--',color='c',label= 'Best K for PCA')\n",
        "plt.legend()\n",
        "plt.title(\"Accuracy on Training Dataset for different values of k\")\n",
        "plt.savefig('PCA_accuracy.png')"
      ],
      "metadata": {
        "colab": {
          "base_uri": "https://localhost:8080/",
          "height": 504
        },
        "id": "JjRpkNkJqj8s",
        "outputId": "4d396827-4ef4-462c-ebfb-adf3e900e098"
      },
      "execution_count": 146,
      "outputs": [
        {
          "output_type": "display_data",
          "data": {
            "text/plain": [
              "<Figure size 1000x500 with 1 Axes>"
            ],
            "image/png": "[encoded data removed]"
          },
          "metadata": {}
        },
        {
          "output_type": "stream",
          "name": "stdout",
          "text": [
            "time: 440 ms (started: 2024-01-07 15:47:38 +00:00)\n"
          ]
        }
      ]
    },
    {
      "cell_type": "markdown",
      "source": [
        "# **Imbalanced Learning**\n",
        "\n",
        "The algorithm selects a minority class instance, finds its k nearest neighbors, and then generates synthetic instances along the line segments connecting the chosen instance with its neighbors. This process helps in balancing the class distribution.\n",
        "\n",
        "We can see the values of each class being the same here.\n",
        "\n",
        "We also compare the accuracy and the F1-score for different values of K"
      ],
      "metadata": {
        "id": "RMStcKAQ2y0F"
      }
    },
    {
      "cell_type": "code",
      "source": [
        "X_res, y_res = make_imbalance(x_train, y_train,\n",
        "                              sampling_strategy={0: 500, 1: 1000, 2: 1383},\n",
        "                              random_state=42)\n",
        "print(Counter(y_res))"
      ],
      "metadata": {
        "colab": {
          "base_uri": "https://localhost:8080/"
        },
        "id": "JdRESOLiJ0_U",
        "outputId": "c8cabd01-0c48-4ec8-a95b-8e0fd12a530a"
      },
      "execution_count": 147,
      "outputs": [
        {
          "output_type": "stream",
          "name": "stdout",
          "text": [
            "Counter({2: 1383, 1: 1000, 0: 500})\n",
            "time: 10.7 ms (started: 2024-01-07 15:47:38 +00:00)\n"
          ]
        }
      ]
    },
    {
      "cell_type": "code",
      "source": [
        "knn_imbalance=KNeighborsClassifier(n_neighbors=20)\n",
        "knn_imbalance.fit(X_res, y_res)"
      ],
      "metadata": {
        "colab": {
          "base_uri": "https://localhost:8080/",
          "height": 92
        },
        "id": "0BFdTp7wGFv7",
        "outputId": "6ebe6df2-cab1-4fb3-e044-cc287c072eaf"
      },
      "execution_count": 148,
      "outputs": [
        {
          "output_type": "execute_result",
          "data": {
            "text/plain": [
              "KNeighborsClassifier(n_neighbors=20)"
            ],
            "text/html": [
              "<style>#sk-container-id-20 {color: black;background-color: white;}#sk-container-id-20 pre{padding: 0;}#sk-container-id-20 div.sk-toggleable {background-color: white;}#sk-container-id-20 label.sk-toggleable__label {cursor: pointer;display: block;width: 100%;margin-bottom: 0;padding: 0.3em;box-sizing: border-box;text-align: center;}#sk-container-id-20 label.sk-toggleable__label-arrow:before {content: \"▸\";float: left;margin-right: 0.25em;color: #696969;}#sk-container-id-20 label.sk-toggleable__label-arrow:hover:before {color: black;}#sk-container-id-20 div.sk-estimator:hover label.sk-toggleable__label-arrow:before {color: black;}#sk-container-id-20 div.sk-toggleable__content {max-height: 0;max-width: 0;overflow: hidden;text-align: left;background-color: #f0f8ff;}#sk-container-id-20 div.sk-toggleable__content pre {margin: 0.2em;color: black;border-radius: 0.25em;background-color: #f0f8ff;}#sk-container-id-20 input.sk-toggleable__control:checked~div.sk-toggleable__content {max-height: 200px;max-width: 100%;overflow: auto;}#sk-container-id-20 input.sk-toggleable__control:checked~label.sk-toggleable__label-arrow:before {content: \"▾\";}#sk-container-id-20 div.sk-estimator input.sk-toggleable__control:checked~label.sk-toggleable__label {background-color: #d4ebff;}#sk-container-id-20 div.sk-label input.sk-toggleable__control:checked~label.sk-toggleable__label {background-color: #d4ebff;}#sk-container-id-20 input.sk-hidden--visually {border: 0;clip: rect(1px 1px 1px 1px);clip: rect(1px, 1px, 1px, 1px);height: 1px;margin: -1px;overflow: hidden;padding: 0;position: absolute;width: 1px;}#sk-container-id-20 div.sk-estimator {font-family: monospace;background-color: #f0f8ff;border: 1px dotted black;border-radius: 0.25em;box-sizing: border-box;margin-bottom: 0.5em;}#sk-container-id-20 div.sk-estimator:hover {background-color: #d4ebff;}#sk-container-id-20 div.sk-parallel-item::after {content: \"\";width: 100%;border-bottom: 1px solid gray;flex-grow: 1;}#sk-container-id-20 div.sk-label:hover label.sk-toggleable__label {background-color: #d4ebff;}#sk-container-id-20 div.sk-serial::before {content: \"\";position: absolute;border-left: 1px solid gray;box-sizing: border-box;top: 0;bottom: 0;left: 50%;z-index: 0;}#sk-container-id-20 div.sk-serial {display: flex;flex-direction: column;align-items: center;background-color: white;padding-right: 0.2em;padding-left: 0.2em;position: relative;}#sk-container-id-20 div.sk-item {position: relative;z-index: 1;}#sk-container-id-20 div.sk-parallel {display: flex;align-items: stretch;justify-content: center;background-color: white;position: relative;}#sk-container-id-20 div.sk-item::before, #sk-container-id-20 div.sk-parallel-item::before {content: \"\";position: absolute;border-left: 1px solid gray;box-sizing: border-box;top: 0;bottom: 0;left: 50%;z-index: -1;}#sk-container-id-20 div.sk-parallel-item {display: flex;flex-direction: column;z-index: 1;position: relative;background-color: white;}#sk-container-id-20 div.sk-parallel-item:first-child::after {align-self: flex-end;width: 50%;}#sk-container-id-20 div.sk-parallel-item:last-child::after {align-self: flex-start;width: 50%;}#sk-container-id-20 div.sk-parallel-item:only-child::after {width: 0;}#sk-container-id-20 div.sk-dashed-wrapped {border: 1px dashed gray;margin: 0 0.4em 0.5em 0.4em;box-sizing: border-box;padding-bottom: 0.4em;background-color: white;}#sk-container-id-20 div.sk-label label {font-family: monospace;font-weight: bold;display: inline-block;line-height: 1.2em;}#sk-container-id-20 div.sk-label-container {text-align: center;}#sk-container-id-20 div.sk-container {/* jupyter's `normalize.less` sets `[hidden] { display: none; }` but bootstrap.min.css set `[hidden] { display: none !important; }` so we also need the `!important` here to be able to override the default hidden behavior on the sphinx rendered scikit-learn.org. See: https://github.com/scikit-learn/scikit-learn/issues/21755 */display: inline-block !important;position: relative;}#sk-container-id-20 div.sk-text-repr-fallback {display: none;}</style><div id=\"sk-container-id-20\" class=\"sk-top-container\"><div class=\"sk-text-repr-fallback\"><pre>KNeighborsClassifier(n_neighbors=20)</pre><b>In a Jupyter environment, please rerun this cell to show the HTML representation or trust the notebook. <br />On GitHub, the HTML representation is unable to render, please try loading this page with nbviewer.org.</b></div><div class=\"sk-container\" hidden><div class=\"sk-item\"><div class=\"sk-estimator sk-toggleable\"><input class=\"sk-toggleable__control sk-hidden--visually\" id=\"sk-estimator-id-20\" type=\"checkbox\" checked><label for=\"sk-estimator-id-20\" class=\"sk-toggleable__label sk-toggleable__label-arrow\">KNeighborsClassifier</label><div class=\"sk-toggleable__content\"><pre>KNeighborsClassifier(n_neighbors=20)</pre></div></div></div></div></div>"
            ]
          },
          "metadata": {},
          "execution_count": 148
        },
        {
          "output_type": "stream",
          "name": "stdout",
          "text": [
            "time: 11.1 ms (started: 2024-01-07 15:47:38 +00:00)\n"
          ]
        }
      ]
    },
    {
      "cell_type": "code",
      "source": [
        "y_pred_smote = knn_imbalance.predict(x_test)"
      ],
      "metadata": {
        "id": "O0bnWAxxGvEY",
        "colab": {
          "base_uri": "https://localhost:8080/"
        },
        "outputId": "6603fd80-e5cf-4035-8106-9430acb8e65f"
      },
      "execution_count": 149,
      "outputs": [
        {
          "output_type": "stream",
          "name": "stdout",
          "text": [
            "time: 62 ms (started: 2024-01-07 15:47:38 +00:00)\n"
          ]
        }
      ]
    },
    {
      "cell_type": "code",
      "source": [
        "print(\"F1 score \",f1_score(y_test,y_pred_smote,average='weighted'))\n",
        "print(\"Accuracy score \",accuracy_score(y_test,y_pred_smote))\n"
      ],
      "metadata": {
        "colab": {
          "base_uri": "https://localhost:8080/"
        },
        "id": "LDpzrzTsGgN0",
        "outputId": "d995fb67-2809-40c6-c3c2-bd3ea7e76567"
      },
      "execution_count": 150,
      "outputs": [
        {
          "output_type": "stream",
          "name": "stdout",
          "text": [
            "F1 score  0.8424103877849822\n",
            "Accuracy score  0.846\n",
            "time: 6.45 ms (started: 2024-01-07 15:47:38 +00:00)\n"
          ]
        }
      ]
    },
    {
      "cell_type": "code",
      "source": [
        "k=list(range(1,100))\n",
        "accuracies_imbalance=[]\n",
        "for i in k:\n",
        "    c_v=cross_val_score(KNeighborsClassifier(n_neighbors=i),X=X_res,y=y_res,cv=5,scoring=\"accuracy\")\n",
        "    accuracies_imbalance.append(np.mean(c_v))"
      ],
      "metadata": {
        "id": "IkVGkSixGgVB",
        "colab": {
          "base_uri": "https://localhost:8080/"
        },
        "outputId": "3a40ed66-fd19-46ed-a082-46739d526414"
      },
      "execution_count": 154,
      "outputs": [
        {
          "output_type": "stream",
          "name": "stdout",
          "text": [
            "time: 23.4 s (started: 2024-01-07 15:47:39 +00:00)\n",
            "time: 23.7 s (started: 2024-01-07 15:48:27 +00:00)\n"
          ]
        }
      ]
    },
    {
      "cell_type": "code",
      "source": [
        "f_score=[]\n",
        "for i in k:\n",
        "    c_v=cross_val_score(KNeighborsClassifier(n_neighbors=i),X=X_res,y=y_res,cv=5,scoring=\"f1_weighted\")\n",
        "    f_score.append(np.mean(c_v))"
      ],
      "metadata": {
        "id": "7QYDiMmxJ6d5",
        "colab": {
          "base_uri": "https://localhost:8080/"
        },
        "outputId": "5a9b0cf6-e96c-479d-9638-32c3a7894395"
      },
      "execution_count": 152,
      "outputs": [
        {
          "output_type": "stream",
          "name": "stdout",
          "text": [
            "time: 24.3 s (started: 2024-01-07 15:48:02 +00:00)\n"
          ]
        }
      ]
    },
    {
      "cell_type": "code",
      "source": [
        "plt.figure(figsize=(10,5))\n",
        "plt.scatter(x=list(range(1,100)),y=f_score,label='F1 Score(weighted)')\n",
        "plt.scatter(x=list(range(1,100)),y=accuracies_imbalance,label='Accuracy')\n",
        "plt.xlabel('Number of Neighbors')\n",
        "plt.ylabel(\"Value\")\n",
        "plt.title(\"Accuracy and F1 Score for different k\")\n",
        "plt.legend()\n",
        "plt.savefig('smote_f1_accuracy.png')"
      ],
      "metadata": {
        "colab": {
          "base_uri": "https://localhost:8080/",
          "height": 504
        },
        "id": "6hS_UNRtILjC",
        "outputId": "862944ea-1821-4941-cd20-790d7adbc465"
      },
      "execution_count": 153,
      "outputs": [
        {
          "output_type": "display_data",
          "data": {
            "text/plain": [
              "<Figure size 1000x500 with 1 Axes>"
            ],
            "image/png": "[encoded data removed]"
          },
          "metadata": {}
        },
        {
          "output_type": "stream",
          "name": "stdout",
          "text": [
            "time: 460 ms (started: 2024-01-07 15:48:26 +00:00)\n"
          ]
        }
      ]
    }
  ]
}